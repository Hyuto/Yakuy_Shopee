{
  "nbformat": 4,
  "nbformat_minor": 0,
  "metadata": {
    "colab": {
      "name": "Final Notebook.ipynb",
      "provenance": [],
      "collapsed_sections": []
    },
    "kernelspec": {
      "name": "python3",
      "display_name": "Python 3"
    }
  },
  "cells": [
    {
      "cell_type": "markdown",
      "metadata": {
        "id": "AleOMWMdIqgN",
        "colab_type": "text"
      },
      "source": [
        "# Notebook Final\n",
        "---\n",
        "Shopee Code League Week 2 : Product Detection<br>\n",
        "Deep Learning using Keras with Tersorflow backend<br>\n",
        "`Note : kenapa namanya final? karena gw dah males ngedit lagi awkwkwk`\n"
      ]
    },
    {
      "cell_type": "markdown",
      "metadata": {
        "id": "3TbXzqRjKcYL",
        "colab_type": "text"
      },
      "source": [
        "# Cek GPU Colab\n",
        "Coba cek dlu GPU colabnya pke kode berikut. Kalau gak ada coba dinyalain dlu caranya:<br>\n",
        "`Edit -> Notebook Settings -> Hardware accelerator -> GPU`<br>\n",
        "Note: Karena make GPU gak tau kenapa Disknya bakal kepake secara drastis. Jadi mungkin gk bsa run 2 notebook di akun google yang sama.\n"
      ]
    },
    {
      "cell_type": "code",
      "metadata": {
        "id": "LaYbi62w6LOf",
        "colab_type": "code",
        "colab": {
          "base_uri": "https://localhost:8080/",
          "height": 353
        },
        "outputId": "99ba1721-c82c-4db7-e80b-81fee321275e"
      },
      "source": [
        "!nvidia-smi"
      ],
      "execution_count": 1,
      "outputs": [
        {
          "output_type": "stream",
          "text": [
            "Sun Jun 28 03:12:04 2020       \n",
            "+-----------------------------------------------------------------------------+\n",
            "| NVIDIA-SMI 450.36.06    Driver Version: 418.67       CUDA Version: 10.1     |\n",
            "|-------------------------------+----------------------+----------------------+\n",
            "| GPU  Name        Persistence-M| Bus-Id        Disp.A | Volatile Uncorr. ECC |\n",
            "| Fan  Temp  Perf  Pwr:Usage/Cap|         Memory-Usage | GPU-Util  Compute M. |\n",
            "|                               |                      |               MIG M. |\n",
            "|===============================+======================+======================|\n",
            "|   0  Tesla K80           Off  | 00000000:00:04.0 Off |                    0 |\n",
            "| N/A   36C    P8    27W / 149W |      0MiB / 11441MiB |      0%      Default |\n",
            "|                               |                      |                 ERR! |\n",
            "+-------------------------------+----------------------+----------------------+\n",
            "                                                                               \n",
            "+-----------------------------------------------------------------------------+\n",
            "| Processes:                                                                  |\n",
            "|  GPU   GI   CI        PID   Type   Process name                  GPU Memory |\n",
            "|        ID   ID                                                   Usage      |\n",
            "|=============================================================================|\n",
            "|  No running processes found                                                 |\n",
            "+-----------------------------------------------------------------------------+\n"
          ],
          "name": "stdout"
        }
      ]
    },
    {
      "cell_type": "markdown",
      "metadata": {
        "id": "zJnVT0RoLd1M",
        "colab_type": "text"
      },
      "source": [
        "# Import Libraries\n",
        "Import dlu gan :)"
      ]
    },
    {
      "cell_type": "code",
      "metadata": {
        "id": "U3Ay8iThCzq_",
        "colab_type": "code",
        "colab": {}
      },
      "source": [
        "import tensorflow as tf\n",
        "import pandas as pd\n",
        "import matplotlib.pyplot as plt\n",
        "import seaborn as sns\n",
        "import numpy as np\n",
        "import os\n",
        "import shutil\n",
        "import string\n",
        "import random\n",
        "from keras.layers import Dense, GlobalAveragePooling2D, Dropout\n",
        "from keras.applications.resnet import preprocess_input\n",
        "from keras.preprocessing.image import ImageDataGenerator, load_img, img_to_array\n",
        "from keras.models import Model, load_model\n",
        "from keras.callbacks import ModelCheckpoint\n",
        "from zipfile import ZipFile\n",
        "from keras.applications import *"
      ],
      "execution_count": 10,
      "outputs": []
    },
    {
      "cell_type": "markdown",
      "metadata": {
        "id": "wqlpDIs3Ly0j",
        "colab_type": "text"
      },
      "source": [
        "# Load Data ke Session\n",
        "Load datanya dlu gan ke session colab.<br>\n",
        "URL nya bsa pke yang otomatis. itu URL file aing jangan dipake sering sering yak sehari nanti kena limit, aing mau make juga. wkwk<br>\n",
        "<ul>\n",
        "  <li>\n",
        "  <h2>Pake File sendiri dari Drive</h2>\n",
        "\n",
        "```\n",
        "Klik kanan di file drive kalian -> Dapatkan Link yang bsa dibagikan -> ganti jadi siapa saja yang memiliki link -> Salin Link -> Selsai\n",
        "```\n",
        "\n",
        "  Nanti klean dapet kek gni contoh:<br>\n",
        "  \n",
        "```\n",
        "https://drive.google.com/file/d/1qGQ6YqSzLGGa0rk3FZJ5cxdwE9Uom1yg/view?usp=sharing\n",
        "```\n",
        "\n",
        "  <br>\n",
        "  Tinggal ganti format linknya jadi:<br>\n",
        "\n",
        "```\n",
        "https://drive.google.com/uc?id=1qGQ6YqSzLGGa0rk3FZJ5cxdwE9Uom1yg\n",
        "```\n",
        "\n",
        "  Terus kalian bsa langsung pakai di fungsi.<br>\n",
        "```\n",
        "base_dir = Load_File(https://drive.google.com/uc?id=1qGQ6YqSzLGGa0rk3FZJ5cxdwE9Uom1yg)\n",
        "```\n",
        "  Note : Jangan lupa buat ngeganti direktori local zip jd nama file agan\"\n",
        "```\n",
        "local_zip = '/content/DimasBauBawank.zip'\n",
        "```\n",
        "  <li><h2>Pakai cara yang kemarin</h2>\n",
        "  Pakai cara itu juga gapapa, step ini di skip aja.\n",
        "</ul?"
      ]
    },
    {
      "cell_type": "code",
      "metadata": {
        "id": "jEpiy_llLnpX",
        "colab_type": "code",
        "colab": {}
      },
      "source": [
        "def Load_File(url = 'https://drive.google.com/uc?id=19AR9GVUepxoi771KTLmUCf9Y-LJFpes6'):\n",
        "  !gdown {url}\n",
        "  local_zip = '/content/Salinan shopee-product-detection-dataset.zip'\n",
        "  zip_ref = ZipFile(local_zip, mode = 'r', allowZip64 = True)\n",
        "  zip_ref.extractall('/tmp')\n",
        "  zip_ref.close()\n",
        "  return '/tmp/train/train'"
      ],
      "execution_count": null,
      "outputs": []
    },
    {
      "cell_type": "code",
      "metadata": {
        "id": "gRxClFdk6SBg",
        "colab_type": "code",
        "colab": {
          "base_uri": "https://localhost:8080/",
          "height": 84
        },
        "outputId": "2a411f63-d5cb-45d8-8969-c78e6d791bcd"
      },
      "source": [
        "base_dir = Load_File()"
      ],
      "execution_count": 2,
      "outputs": [
        {
          "output_type": "stream",
          "text": [
            "Downloading...\n",
            "From: https://drive.google.com/uc?id=1qGQ6YqSzLGGa0rk3FZJ5cxdwE9Uom1yg\n",
            "To: /content/Salinan shopee-product-detection-dataset.zip\n",
            "10.1GB [02:27, 68.4MB/s]\n"
          ],
          "name": "stdout"
        }
      ]
    },
    {
      "cell_type": "markdown",
      "metadata": {
        "id": "q03dW-bVPcqQ",
        "colab_type": "text"
      },
      "source": [
        "# Handling Imbalance Data\n",
        "Klo dari aing solusinya resample class yang kekurangan data pke data augmentation\n",
        "<ul>\n",
        "  <li><h2>Kelebihan</h2>\n",
        "    <ol>\n",
        "      <li>Kagak kehilangan data\n",
        "      <li>Tambahan data\n",
        "      <li>Udah ngelakuin Augmentation data pdhal datanya besar\n",
        "      <li>Data Seimbang antar kelasnya\n",
        "    </ol>\n",
        "  <li><h2>Kekurangan</h2>\n",
        "    <ol>\n",
        "      <li>Gak semua Data dilakukan Augmentation\n",
        "      <li>Dan masih banyak lagi\n",
        "    </ol>\n",
        "</ul>\n"
      ]
    },
    {
      "cell_type": "code",
      "metadata": {
        "id": "nVjkDRHF6SG6",
        "colab_type": "code",
        "colab": {}
      },
      "source": [
        "from PIL import ImageFile\n",
        "ImageFile.LOAD_TRUNCATED_IMAGES = True\n",
        "\n",
        "def randomString(stringLength=4): #Random tring Generator buat ngerandom nama file yang udah di Augmentasi\n",
        "    letters = string.ascii_lowercase\n",
        "    return ''.join(random.choice(letters) for i in range(stringLength))\n",
        "\n",
        "def Balance_Size(direc):\n",
        "  aug = ImageDataGenerator(rotation_range=30, # Augmentasi data Image\n",
        "                          zoom_range=0.15,\n",
        "                          width_shift_range=0.2,\n",
        "                          height_shift_range=0.2,\n",
        "                          shear_range=0.15,\n",
        "                          horizontal_flip=True,\n",
        "                          fill_mode=\"nearest\")\n",
        "\n",
        "  render = lambda direc : np.expand_dims(img_to_array(load_img(direc, target_size=(224,224))), axis=0) # Render\n",
        "\n",
        "  def imageGen(image, target): # Run Augmentation\n",
        "    temp = aug.flow(image, batch_size=1, save_to_dir=target, save_prefix=f\"aug_{randomString()}\", save_format=\"jpg\")\n",
        "    for test in temp:\n",
        "      wawa = 1 + 1\n",
        "      break\n",
        "\n",
        "  list_dir = os.listdir(direc)\n",
        "  max_ = max([len(os.listdir(direc + f'/{x}')) for x in list_dir])\n",
        "  for folder in list_dir:                 # Checking data per folder\n",
        "    temp = direc + f'/{folder}'\n",
        "    list_item = os.listdir(temp)\n",
        "    i, j = divmod(max_, len(list_item))\n",
        "    i -= 1\n",
        "    if i != 0:\n",
        "      for item in list_item:              # Let Flow Let Flow\n",
        "        temp_2 = temp + f'/{item}'\n",
        "        image = render(temp_2)\n",
        "        for k in range(i):\n",
        "          target = temp + f'/{k}_{item}'\n",
        "          imageGen(image, target=temp)\n",
        "    if j != 0:\n",
        "      for _ in range(j):\n",
        "        rand = random.choice(list_item)\n",
        "        item = temp + f'/{rand}'\n",
        "        target = temp + f'/j_{rand}'\n",
        "        image = render(item)\n",
        "        imageGen(image, target=temp)\n",
        "        list_item.remove(rand) "
      ],
      "execution_count": 18,
      "outputs": []
    },
    {
      "cell_type": "code",
      "metadata": {
        "id": "xJ7z_5bk6SKO",
        "colab_type": "code",
        "colab": {}
      },
      "source": [
        "Balance_Size(base_dir) # Running Balance Size Func"
      ],
      "execution_count": 19,
      "outputs": []
    },
    {
      "cell_type": "code",
      "metadata": {
        "id": "IxGNSH1yC2_e",
        "colab_type": "code",
        "colab": {
          "base_uri": "https://localhost:8080/",
          "height": 428
        },
        "outputId": "4f7ce676-a2d8-4735-97e5-5946bb4755de"
      },
      "source": [
        "# Checking Jumlah data per kelas\n",
        "list_dir = os.listdir(base_dir)\n",
        "plt.figure(figsize=(7,7))\n",
        "sns.barplot(list(range(1,43)), [len(os.listdir(base_dir + f'/{x}')) for x in list_dir])\n",
        "plt.show()"
      ],
      "execution_count": 30,
      "outputs": [
        {
          "output_type": "display_data",
          "data": {
            "image/png": "[encoded data removed]",
            "text/plain": [
              "<Figure size 504x504 with 1 Axes>"
            ]
          },
          "metadata": {
            "tags": [],
            "needs_background": "light"
          }
        }
      ]
    },
    {
      "cell_type": "markdown",
      "metadata": {
        "id": "p4RGj-a7T89P",
        "colab_type": "text"
      },
      "source": [
        "# Modelling\n",
        "Generate model gan. Agan bsa customize modelnya sendiri di dalem class berikut.<br>\n",
        "Transfer Learningnya juga bsa terserah agan tinggal ganti aja.<br>\n",
        "Keras Tansfer Learning : <a href=\"https://keras.io/api/applications/\">Sedot</a>\n",
        "<br>\n",
        "<br>\n",
        "Note : Jangan lupa buat ngeganti \n",
        "\n",
        "```\n",
        "from keras.applications.resnet import preprocess_input\n",
        "```\n",
        "Resnetnya diganti jadi Transfer Learning yang agan mau coba\n"
      ]
    },
    {
      "cell_type": "code",
      "metadata": {
        "id": "pNovDFuJT6uB",
        "colab_type": "code",
        "colab": {}
      },
      "source": [
        "class Modelling(object):\n",
        "  def __init__(self, tf = ResNet50(weights='imagenet',include_top=False)):\n",
        "    x=tf.output\n",
        "    x=GlobalAveragePooling2D()(x)\n",
        "    x=Dense(1024,activation='relu')(x)\n",
        "    x=Dense(512,activation='relu')(x)\n",
        "    preds=Dense(42,activation='softmax')(x)\n",
        "    x=Dropout(0.2)(x)\n",
        "    model = Model(inputs=tf.input,outputs=preds)\n",
        "    for layer in model.layers[:20]:\n",
        "        layer.trainable=False\n",
        "    for layer in model.layers[20:]:\n",
        "        layer.trainable=True\n",
        "    self.model = model\n",
        "\n",
        "  def Load_Saved(self, direc): # Load Model\n",
        "    self.model = load_model(direc)\n",
        "    return self.model"
      ],
      "execution_count": null,
      "outputs": []
    },
    {
      "cell_type": "code",
      "metadata": {
        "id": "NqBoeoG4VMtH",
        "colab_type": "code",
        "colab": {}
      },
      "source": [
        "# Base Model\n",
        "base_model = Modelling()"
      ],
      "execution_count": null,
      "outputs": []
    },
    {
      "cell_type": "code",
      "metadata": {
        "id": "qCjuuUcfVMwd",
        "colab_type": "code",
        "colab": {}
      },
      "source": [
        "# New Model\n",
        "model = base_model.model\n",
        "# Load Existing Model\n",
        "# model = base_model.Load_Saved(#DIREKTORI#)"
      ],
      "execution_count": null,
      "outputs": []
    },
    {
      "cell_type": "markdown",
      "metadata": {
        "id": "1mwrUhbEVk-L",
        "colab_type": "text"
      },
      "source": [
        "# Load Data\n",
        "Load datanya gan"
      ]
    },
    {
      "cell_type": "code",
      "metadata": {
        "id": "gpsXb4jzTqVE",
        "colab_type": "code",
        "colab": {}
      },
      "source": [
        "train_datagen=ImageDataGenerator(validation_split=0.25,\n",
        "                                 preprocessing_function=preprocess_input)\n",
        "\n",
        "train_generator=train_datagen.flow_from_directory(base_dir,\n",
        "                                                 target_size=(224,224),\n",
        "                                                 color_mode='rgb',\n",
        "                                                 batch_size=32,\n",
        "                                                 class_mode='categorical',\n",
        "                                                 subset='training',\n",
        "                                                 shuffle=True)\n",
        "valid_generator=train_datagen.flow_from_directory(base_dir,\n",
        "                                                 target_size=(224,224),\n",
        "                                                 color_mode='rgb',\n",
        "                                                 batch_size=32,\n",
        "                                                 class_mode='categorical',\n",
        "                                                 subset='validation',\n",
        "                                                 shuffle=True)"
      ],
      "execution_count": null,
      "outputs": []
    },
    {
      "cell_type": "markdown",
      "metadata": {
        "id": "lttOI9K7Vx_p",
        "colab_type": "text"
      },
      "source": [
        "# Compile Model\n",
        "Optimizernya bebas gan bisa di cek linknya:<br>\n",
        "Keras Optimize : <a href=\"https://keras.io/api/optimizers/\">Sedot</a>"
      ]
    },
    {
      "cell_type": "code",
      "metadata": {
        "id": "vQRz08XJTrGw",
        "colab_type": "code",
        "colab": {}
      },
      "source": [
        "model.compile(optimizer='Adam', \n",
        "              loss='categorical_crossentropy', \n",
        "              metrics=['accuracy'])"
      ],
      "execution_count": null,
      "outputs": []
    },
    {
      "cell_type": "markdown",
      "metadata": {
        "id": "z1obonJmWc1d",
        "colab_type": "text"
      },
      "source": [
        "# CheckPoint\n",
        "Save model per Epoch\n"
      ]
    },
    {
      "cell_type": "code",
      "metadata": {
        "id": "mK0FQsUoTrI7",
        "colab_type": "code",
        "colab": {}
      },
      "source": [
        "filepath=\"ResNet_1-Adam-{epoch:02d}-{val_accuracy:.2f}.h5\"\n",
        "checkpoint = [ModelCheckpoint(filepath, monitor='val_accuracy', \n",
        "                              save_best_only=True, mode='max')]"
      ],
      "execution_count": null,
      "outputs": []
    },
    {
      "cell_type": "markdown",
      "metadata": {
        "id": "QWkdt4WvWrnk",
        "colab_type": "text"
      },
      "source": [
        "# Fit Model\n",
        "Fit Modelnya skarang gan :)<br>\n",
        "Note : Epochnya bebas tergantung keteguhan hati menunggu wkwk"
      ]
    },
    {
      "cell_type": "code",
      "metadata": {
        "id": "vm_LU1NmTrLg",
        "colab_type": "code",
        "colab": {}
      },
      "source": [
        "step_size_train=train_generator.n//train_generator.batch_size\n",
        "valid_size_train=valid_generator.n//valid_generator.batch_size\n",
        "model.fit(train_generator,\n",
        "            validation_data=valid_generator,\n",
        "            steps_per_epoch=step_size_train,\n",
        "            callbacks=checkpoint,\n",
        "            epochs = 10,\n",
        "            validation_steps = valid_size_train)"
      ],
      "execution_count": null,
      "outputs": []
    },
    {
      "cell_type": "markdown",
      "metadata": {
        "id": "hbHJO3CnXANF",
        "colab_type": "text"
      },
      "source": [
        "# Predictions\n",
        "Akhirnya modelnya dah siap gan tinggal prediksi aja :v"
      ]
    },
    {
      "cell_type": "code",
      "metadata": {
        "id": "Lvd52PASTrO4",
        "colab_type": "code",
        "colab": {}
      },
      "source": [
        "data = pd.read_csv('/tmp/train.csv')\n",
        "data.head()"
      ],
      "execution_count": null,
      "outputs": []
    },
    {
      "cell_type": "code",
      "metadata": {
        "id": "JmVbVuyeC3K9",
        "colab_type": "code",
        "colab": {}
      },
      "source": [
        "filename = data['filename'].tolist()\n",
        "image_size=(224,224)\n",
        "test_dir = '/tmp/test/test/'\n",
        "res = []\n",
        "for direc in filename:\n",
        "  img = load_img(test_dir+direc, target_size=image_size)\n",
        "  img_array = preprocess_input(np.expand_dims(img_to_array(img), axis=0))\n",
        "  res.append(np.argmax(model.predict(img_array)))"
      ],
      "execution_count": null,
      "outputs": []
    },
    {
      "cell_type": "code",
      "metadata": {
        "id": "97oX-z6EXRLx",
        "colab_type": "code",
        "colab": {}
      },
      "source": [
        "res = list(map(lambda x : str(x).zfill(2), res))\n",
        "data['category'] = res"
      ],
      "execution_count": null,
      "outputs": []
    },
    {
      "cell_type": "markdown",
      "metadata": {
        "id": "5NkuoBm-XVmv",
        "colab_type": "text"
      },
      "source": [
        "<h2>Lihat Sebaran Data Prediksiannya gan</h2>"
      ]
    },
    {
      "cell_type": "code",
      "metadata": {
        "id": "p9v5tEmKXRVN",
        "colab_type": "code",
        "colab": {}
      },
      "source": [
        "plt.figure(figsize=(10,10))\n",
        "sns.countplot(x = 'category', data = data)\n",
        "plt.title('Figure Size')\n",
        "plt.show()"
      ],
      "execution_count": null,
      "outputs": []
    },
    {
      "cell_type": "code",
      "metadata": {
        "id": "81v1qrE6XRYf",
        "colab_type": "code",
        "colab": {}
      },
      "source": [
        "# Save to CSV\n",
        "data.to_csv('submission.csv', index=False)"
      ],
      "execution_count": null,
      "outputs": []
    }
  ]
}