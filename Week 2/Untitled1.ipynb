{
  "nbformat": 4,
  "nbformat_minor": 0,
  "metadata": {
    "colab": {
      "name": "Untitled1.ipynb",
      "provenance": []
    },
    "kernelspec": {
      "name": "python3",
      "display_name": "Python 3"
    }
  },
  "cells": [
    {
      "cell_type": "code",
      "metadata": {
        "id": "Lyivi7JXyG2k",
        "colab_type": "code",
        "colab": {}
      },
      "source": [
        "import tensorflow as tf\n",
        "import os\n",
        "import zipfile\n",
        "import numpy as np\n",
        "from tensorflow.keras.preprocessing import image\n",
        "import matplotlib.pyplot as plt\n",
        "import matplotlib.image as mpimg\n",
        "from tensorflow.keras.models import Sequential\n",
        "from tensorflow.keras.layers import Dense, Flatten, Dropout, Conv2D, MaxPooling2D, GlobalAveragePooling2D\n",
        "import random\n",
        "import shutil\n",
        "import seaborn as sns\n",
        "from PIL import Image"
      ],
      "execution_count": null,
      "outputs": []
    },
    {
      "cell_type": "code",
      "metadata": {
        "id": "ZNr_wjqxyYgo",
        "colab_type": "code",
        "colab": {}
      },
      "source": [
        "cd /home/"
      ],
      "execution_count": null,
      "outputs": []
    },
    {
      "cell_type": "code",
      "metadata": {
        "id": "Wi-7mhYOydht",
        "colab_type": "code",
        "colab": {}
      },
      "source": [
        "filezip = '/content/drive/My Drive/Salinan shopee-product-detection-dataset.zip'\n",
        "buka_zip = zipfile.ZipFile(filezip, 'r')\n",
        "buka_zip.extractall('/home/')\n",
        "buka_zip.close()"
      ],
      "execution_count": null,
      "outputs": []
    },
    {
      "cell_type": "code",
      "metadata": {
        "id": "P1afyGBhye9A",
        "colab_type": "code",
        "colab": {}
      },
      "source": [
        "item = 'train/train'"
      ],
      "execution_count": null,
      "outputs": []
    },
    {
      "cell_type": "code",
      "metadata": {
        "id": "14byLI_ryjun",
        "colab_type": "code",
        "colab": {}
      },
      "source": [
        "a = []\n",
        "for i in sorted(os.listdir('/home/train/train')):\n",
        "    a.append(len(os.listdir(f'/home/train/train/{i}')))"
      ],
      "execution_count": null,
      "outputs": []
    },
    {
      "cell_type": "code",
      "metadata": {
        "id": "0mr9k6JOyxno",
        "colab_type": "code",
        "colab": {}
      },
      "source": [
        "a = np.array(a)"
      ],
      "execution_count": null,
      "outputs": []
    },
    {
      "cell_type": "code",
      "metadata": {
        "id": "DrwjvWg2y2Jh",
        "colab_type": "code",
        "colab": {}
      },
      "source": [
        "l = np.array(sorted(os.listdir('/home/train/train')))[a<np.mean(a)]"
      ],
      "execution_count": null,
      "outputs": []
    },
    {
      "cell_type": "code",
      "metadata": {
        "id": "gkB9K6Pky5X9",
        "colab_type": "code",
        "colab": {}
      },
      "source": [
        "c = a[a<np.mean(a)]"
      ],
      "execution_count": null,
      "outputs": []
    },
    {
      "cell_type": "code",
      "metadata": {
        "id": "v72tth7zzA5d",
        "colab_type": "code",
        "colab": {}
      },
      "source": [
        "for i in range(len(c)):\n",
        "    os.chdir(f'/home/train/train/{l[i]}')\n",
        "    d = os.listdir(f'/home/train/train/{l[i]}')\n",
        "    if i != 5:\n",
        "        for j in range(int(((np.mean(a))-c[i])/2)):\n",
        "            im=Image.open(d[j])\n",
        "            im=im.convert(\"RGB\")\n",
        "            im_blur=im.filter(ImageFilter.GaussianBlur)\n",
        "            im_unsharp=im.filter(ImageFilter.UnsharpMask)\n",
        "            im_blur.save(str(j)+'bl_'+d[j])\n",
        "            im_unsharp.save(str(j)+'un_'+d[j])"
      ],
      "execution_count": null,
      "outputs": []
    },
    {
      "cell_type": "code",
      "metadata": {
        "id": "Aws_EY6IzD8W",
        "colab_type": "code",
        "colab": {}
      },
      "source": [
        "cd /home/train/train/33"
      ],
      "execution_count": null,
      "outputs": []
    },
    {
      "cell_type": "code",
      "metadata": {
        "id": "kFZ2jTZ0zKbQ",
        "colab_type": "code",
        "colab": {}
      },
      "source": [
        "n = os.listdir()\n",
        "for i in range(2):\n",
        "    for j in range(len(n)):\n",
        "        im=Image.open(n[j])\n",
        "        im=im.convert(\"RGB\")\n",
        "        im_blur=im.filter(ImageFilter.GaussianBlur)\n",
        "        im_unsharp=im.filter(ImageFilter.UnsharpMask)\n",
        "        im_blur.save(str(i)+'bl_'+n[j])\n",
        "        im_unsharp.save(str(i)+'un_'+n[j])"
      ],
      "execution_count": null,
      "outputs": []
    },
    {
      "cell_type": "code",
      "metadata": {
        "id": "7aQ-rXb8zNK_",
        "colab_type": "code",
        "colab": {}
      },
      "source": [
        "cd /home/"
      ],
      "execution_count": null,
      "outputs": []
    },
    {
      "cell_type": "code",
      "metadata": {
        "id": "PiHbBPZazTjF",
        "colab_type": "code",
        "colab": {}
      },
      "source": [
        "datagen = image.ImageDataGenerator(\n",
        "                    rescale=1./255,\n",
        "                    validation_split=0.2,\n",
        "                    preprocessing_function=tf.keras.applications.mobilenet_v2.preprocess_input)"
      ],
      "execution_count": null,
      "outputs": []
    },
    {
      "cell_type": "code",
      "metadata": {
        "id": "G_ADA8-Xzcfz",
        "colab_type": "code",
        "colab": {}
      },
      "source": [
        "train_generator = datagen.flow_from_directory(\n",
        "        item,  \n",
        "        target_size=(224, 224),  \n",
        "        batch_size=32,\n",
        "        class_mode='categorical',\n",
        "        subset='training', \n",
        "        shuffle=True)\n",
        "\n",
        "test_generator = datagen.flow_from_directory(\n",
        "        item, \n",
        "        target_size=(224, 224), \n",
        "        batch_size=32, \n",
        "        class_mode='categorical',\n",
        "        subset='validation',\n",
        "        shuffle=True)"
      ],
      "execution_count": null,
      "outputs": []
    },
    {
      "cell_type": "code",
      "metadata": {
        "id": "bobggpR_zuRB",
        "colab_type": "code",
        "colab": {}
      },
      "source": [
        "model = tf.keras.applications.MobileNetV2(weights=None, classes=42, pooling='max')"
      ],
      "execution_count": null,
      "outputs": []
    },
    {
      "cell_type": "code",
      "metadata": {
        "id": "ds3sIF2iz18r",
        "colab_type": "code",
        "colab": {}
      },
      "source": [
        "model.compile(loss='categorical_crossentropy',\n",
        "              optimizer=tf.optimizers.SGD(),\n",
        "              metrics=['accuracy'])"
      ],
      "execution_count": null,
      "outputs": []
    },
    {
      "cell_type": "code",
      "metadata": {
        "id": "EdYNzPF65VNu",
        "colab_type": "code",
        "colab": {}
      },
      "source": [
        "model.load_weights('/model(1).h5')"
      ],
      "execution_count": null,
      "outputs": []
    },
    {
      "cell_type": "code",
      "metadata": {
        "id": "N-Jiiwtqz4lq",
        "colab_type": "code",
        "colab": {}
      },
      "source": [
        "model.summary()"
      ],
      "execution_count": null,
      "outputs": []
    },
    {
      "cell_type": "code",
      "metadata": {
        "id": "-4yz-kz_z6uu",
        "colab_type": "code",
        "colab": {}
      },
      "source": [
        "%%time\n",
        "model.fit(\n",
        "      train_generator,\n",
        "      workers=4,\n",
        "      steps_per_epoch=50,\n",
        "      epochs=200,\n",
        "      validation_data=test_generator, \n",
        "      validation_steps=10,\n",
        "      verbose=1)"
      ],
      "execution_count": null,
      "outputs": []
    },
    {
      "cell_type": "code",
      "metadata": {
        "id": "iqKeVBxV0GXX",
        "colab_type": "code",
        "colab": {}
      },
      "source": [
        ""
      ],
      "execution_count": null,
      "outputs": []
    }
  ]
}