{
 "cells": [
  {
   "cell_type": "code",
   "execution_count": 193,
   "metadata": {},
   "outputs": [],
   "source": [
    "#Import library\n",
    "import pandas as pd\n",
    "import numpy as np\n",
    "from datetime import datetime\n",
    "from statistics import mode\n",
    "from collections import Counter #untuk mencari modus dan untuk menghindari bimodus"
   ]
  },
  {
   "cell_type": "code",
   "execution_count": 194,
   "metadata": {},
   "outputs": [],
   "source": [
    "data = pd.read_csv('order_brush_order.csv')"
   ]
  },
  {
   "cell_type": "code",
   "execution_count": 195,
   "metadata": {},
   "outputs": [],
   "source": [
    "data = data.sort_values(['shopid', 'event_time'])"
   ]
  },
  {
   "cell_type": "code",
   "execution_count": 196,
   "metadata": {},
   "outputs": [
    {
     "data": {
      "text/html": [
       "<div>\n",
       "<style scoped>\n",
       "    .dataframe tbody tr th:only-of-type {\n",
       "        vertical-align: middle;\n",
       "    }\n",
       "\n",
       "    .dataframe tbody tr th {\n",
       "        vertical-align: top;\n",
       "    }\n",
       "\n",
       "    .dataframe thead th {\n",
       "        text-align: right;\n",
       "    }\n",
       "</style>\n",
       "<table border=\"1\" class=\"dataframe\">\n",
       "  <thead>\n",
       "    <tr style=\"text-align: right;\">\n",
       "      <th></th>\n",
       "      <th>orderid</th>\n",
       "      <th>shopid</th>\n",
       "      <th>userid</th>\n",
       "      <th>event_time</th>\n",
       "    </tr>\n",
       "  </thead>\n",
       "  <tbody>\n",
       "    <tr>\n",
       "      <th>59</th>\n",
       "      <td>31086409141107</td>\n",
       "      <td>10009</td>\n",
       "      <td>196962305</td>\n",
       "      <td>2019-12-27 03:06:50</td>\n",
       "    </tr>\n",
       "    <tr>\n",
       "      <th>76187</th>\n",
       "      <td>31144571933461</td>\n",
       "      <td>10051</td>\n",
       "      <td>2854032</td>\n",
       "      <td>2019-12-27 19:16:11</td>\n",
       "    </tr>\n",
       "    <tr>\n",
       "      <th>9055</th>\n",
       "      <td>31254979546679</td>\n",
       "      <td>10051</td>\n",
       "      <td>48600461</td>\n",
       "      <td>2019-12-29 01:56:19</td>\n",
       "    </tr>\n",
       "    <tr>\n",
       "      <th>188513</th>\n",
       "      <td>31195675919209</td>\n",
       "      <td>10061</td>\n",
       "      <td>168750452</td>\n",
       "      <td>2019-12-28 09:27:55</td>\n",
       "    </tr>\n",
       "    <tr>\n",
       "      <th>174620</th>\n",
       "      <td>31205132327893</td>\n",
       "      <td>10061</td>\n",
       "      <td>194819216</td>\n",
       "      <td>2019-12-28 12:05:32</td>\n",
       "    </tr>\n",
       "  </tbody>\n",
       "</table>\n",
       "</div>"
      ],
      "text/plain": [
       "               orderid  shopid     userid           event_time\n",
       "59      31086409141107   10009  196962305  2019-12-27 03:06:50\n",
       "76187   31144571933461   10051    2854032  2019-12-27 19:16:11\n",
       "9055    31254979546679   10051   48600461  2019-12-29 01:56:19\n",
       "188513  31195675919209   10061  168750452  2019-12-28 09:27:55\n",
       "174620  31205132327893   10061  194819216  2019-12-28 12:05:32"
      ]
     },
     "execution_count": 196,
     "metadata": {},
     "output_type": "execute_result"
    }
   ],
   "source": [
    "data.head()"
   ]
  },
  {
   "cell_type": "code",
   "execution_count": 197,
   "metadata": {},
   "outputs": [],
   "source": [
    "shops = data.groupby(by='shopid').count()"
   ]
  },
  {
   "cell_type": "code",
   "execution_count": 198,
   "metadata": {},
   "outputs": [],
   "source": [
    "susp1 =  list(shops[shops['orderid'] == 3].index)"
   ]
  },
  {
   "cell_type": "code",
   "execution_count": 199,
   "metadata": {},
   "outputs": [],
   "source": [
    "#Mencari brush user untuk shop dengan 3 transaksi\n",
    "susps = []  #shopid yang melakukan brushing\n",
    "suspu = []  #userid yang melakukan brushing\n",
    "for i in susp1:\n",
    "    dt = data[data['shopid']==i]\n",
    "    time0 = datetime.strptime(dt.iloc[0,3], '%Y-%m-%d %H:%M:%S')\n",
    "    time1 = datetime.strptime(dt.iloc[-1,3], '%Y-%m-%d %H:%M:%S')\n",
    "    if len(set(dt['userid'])) == 1 and ((time1-time0).total_seconds() <= 3600):\n",
    "        susps.append(dt.iloc[0,1])\n",
    "        suspu.append(dt.iloc[0,2])"
   ]
  },
  {
   "cell_type": "code",
   "execution_count": 200,
   "metadata": {},
   "outputs": [],
   "source": [
    "#Membuat data frame untuk jawaban dengan nilai awal semua userid = 0\n",
    "csv = pd.DataFrame({'shopid' : shops.index, 'userid' : [0 for i in range(len(shops))]})"
   ]
  },
  {
   "cell_type": "code",
   "execution_count": 201,
   "metadata": {},
   "outputs": [],
   "source": [
    "#Menambahkan userid yang telah terdeteksi brushing ke dataframe jawaban\n",
    "for i,j in zip(susps, suspu):\n",
    "    csv.iloc[csv[csv['shopid'] == i].index.values[0],1] = j"
   ]
  },
  {
   "cell_type": "code",
   "execution_count": 202,
   "metadata": {},
   "outputs": [
    {
     "data": {
      "text/html": [
       "<div>\n",
       "<style scoped>\n",
       "    .dataframe tbody tr th:only-of-type {\n",
       "        vertical-align: middle;\n",
       "    }\n",
       "\n",
       "    .dataframe tbody tr th {\n",
       "        vertical-align: top;\n",
       "    }\n",
       "\n",
       "    .dataframe thead th {\n",
       "        text-align: right;\n",
       "    }\n",
       "</style>\n",
       "<table border=\"1\" class=\"dataframe\">\n",
       "  <thead>\n",
       "    <tr style=\"text-align: right;\">\n",
       "      <th></th>\n",
       "      <th>shopid</th>\n",
       "      <th>userid</th>\n",
       "    </tr>\n",
       "  </thead>\n",
       "  <tbody>\n",
       "    <tr>\n",
       "      <th>599</th>\n",
       "      <td>3124091</td>\n",
       "      <td>214568881</td>\n",
       "    </tr>\n",
       "    <tr>\n",
       "      <th>3133</th>\n",
       "      <td>50682734</td>\n",
       "      <td>214365114</td>\n",
       "    </tr>\n",
       "    <tr>\n",
       "      <th>7687</th>\n",
       "      <td>129113839</td>\n",
       "      <td>215408773</td>\n",
       "    </tr>\n",
       "    <tr>\n",
       "      <th>9645</th>\n",
       "      <td>153444897</td>\n",
       "      <td>169948888</td>\n",
       "    </tr>\n",
       "    <tr>\n",
       "      <th>9671</th>\n",
       "      <td>153672697</td>\n",
       "      <td>214778616</td>\n",
       "    </tr>\n",
       "    <tr>\n",
       "      <th>9795</th>\n",
       "      <td>155016230</td>\n",
       "      <td>188431260</td>\n",
       "    </tr>\n",
       "    <tr>\n",
       "      <th>10108</th>\n",
       "      <td>157939195</td>\n",
       "      <td>69563623</td>\n",
       "    </tr>\n",
       "    <tr>\n",
       "      <th>10598</th>\n",
       "      <td>161196859</td>\n",
       "      <td>180862522</td>\n",
       "    </tr>\n",
       "    <tr>\n",
       "      <th>11716</th>\n",
       "      <td>163351089</td>\n",
       "      <td>214778616</td>\n",
       "    </tr>\n",
       "    <tr>\n",
       "      <th>16892</th>\n",
       "      <td>201428849</td>\n",
       "      <td>89254393</td>\n",
       "    </tr>\n",
       "    <tr>\n",
       "      <th>17206</th>\n",
       "      <td>203070501</td>\n",
       "      <td>189834273</td>\n",
       "    </tr>\n",
       "    <tr>\n",
       "      <th>17363</th>\n",
       "      <td>203440274</td>\n",
       "      <td>73308605</td>\n",
       "    </tr>\n",
       "    <tr>\n",
       "      <th>18704</th>\n",
       "      <td>213141071</td>\n",
       "      <td>213646699</td>\n",
       "    </tr>\n",
       "  </tbody>\n",
       "</table>\n",
       "</div>"
      ],
      "text/plain": [
       "          shopid     userid\n",
       "599      3124091  214568881\n",
       "3133    50682734  214365114\n",
       "7687   129113839  215408773\n",
       "9645   153444897  169948888\n",
       "9671   153672697  214778616\n",
       "9795   155016230  188431260\n",
       "10108  157939195   69563623\n",
       "10598  161196859  180862522\n",
       "11716  163351089  214778616\n",
       "16892  201428849   89254393\n",
       "17206  203070501  189834273\n",
       "17363  203440274   73308605\n",
       "18704  213141071  213646699"
      ]
     },
     "execution_count": 202,
     "metadata": {},
     "output_type": "execute_result"
    }
   ],
   "source": [
    "csv[csv['shopid'].isin(susps)]"
   ]
  },
  {
   "cell_type": "code",
   "execution_count": 203,
   "metadata": {},
   "outputs": [],
   "source": [
    "susp2 = list(shops[shops['orderid'] > 3].index)"
   ]
  },
  {
   "cell_type": "code",
   "execution_count": 204,
   "metadata": {},
   "outputs": [],
   "source": [
    "#Membuat dataframe baru dengan jumlah transaksi lebih dari 3\n",
    "data2 = data[data['shopid'].isin(susp2)].sort_values(['shopid','event_time'])"
   ]
  },
  {
   "cell_type": "code",
   "execution_count": 205,
   "metadata": {},
   "outputs": [],
   "source": [
    "#Merubah kolom event_time menjadi format waktu\n",
    "data2['event_time'] = data2['event_time'].astype('datetime64[ns]')"
   ]
  },
  {
   "cell_type": "code",
   "execution_count": 206,
   "metadata": {},
   "outputs": [
    {
     "data": {
      "text/html": [
       "<div>\n",
       "<style scoped>\n",
       "    .dataframe tbody tr th:only-of-type {\n",
       "        vertical-align: middle;\n",
       "    }\n",
       "\n",
       "    .dataframe tbody tr th {\n",
       "        vertical-align: top;\n",
       "    }\n",
       "\n",
       "    .dataframe thead th {\n",
       "        text-align: right;\n",
       "    }\n",
       "</style>\n",
       "<table border=\"1\" class=\"dataframe\">\n",
       "  <thead>\n",
       "    <tr style=\"text-align: right;\">\n",
       "      <th></th>\n",
       "      <th>orderid</th>\n",
       "      <th>shopid</th>\n",
       "      <th>userid</th>\n",
       "      <th>event_time</th>\n",
       "    </tr>\n",
       "  </thead>\n",
       "  <tbody>\n",
       "    <tr>\n",
       "      <th>188513</th>\n",
       "      <td>31195675919209</td>\n",
       "      <td>10061</td>\n",
       "      <td>168750452</td>\n",
       "      <td>2019-12-28 09:27:55</td>\n",
       "    </tr>\n",
       "    <tr>\n",
       "      <th>174620</th>\n",
       "      <td>31205132327893</td>\n",
       "      <td>10061</td>\n",
       "      <td>194819216</td>\n",
       "      <td>2019-12-28 12:05:32</td>\n",
       "    </tr>\n",
       "    <tr>\n",
       "      <th>200439</th>\n",
       "      <td>31412115824794</td>\n",
       "      <td>10061</td>\n",
       "      <td>130633421</td>\n",
       "      <td>2019-12-30 21:35:15</td>\n",
       "    </tr>\n",
       "    <tr>\n",
       "      <th>145426</th>\n",
       "      <td>31431527100615</td>\n",
       "      <td>10061</td>\n",
       "      <td>62464559</td>\n",
       "      <td>2019-12-31 02:58:48</td>\n",
       "    </tr>\n",
       "    <tr>\n",
       "      <th>167859</th>\n",
       "      <td>31075686185309</td>\n",
       "      <td>10084</td>\n",
       "      <td>4401933</td>\n",
       "      <td>2019-12-27 00:08:06</td>\n",
       "    </tr>\n",
       "    <tr>\n",
       "      <th>...</th>\n",
       "      <td>...</td>\n",
       "      <td>...</td>\n",
       "      <td>...</td>\n",
       "      <td>...</td>\n",
       "    </tr>\n",
       "    <tr>\n",
       "      <th>182444</th>\n",
       "      <td>31407699385160</td>\n",
       "      <td>213900783</td>\n",
       "      <td>215251024</td>\n",
       "      <td>2019-12-30 20:21:39</td>\n",
       "    </tr>\n",
       "    <tr>\n",
       "      <th>108246</th>\n",
       "      <td>31468414075366</td>\n",
       "      <td>214432425</td>\n",
       "      <td>1134243</td>\n",
       "      <td>2019-12-31 13:13:34</td>\n",
       "    </tr>\n",
       "    <tr>\n",
       "      <th>133194</th>\n",
       "      <td>31505523761333</td>\n",
       "      <td>214432425</td>\n",
       "      <td>1134243</td>\n",
       "      <td>2019-12-31 23:32:03</td>\n",
       "    </tr>\n",
       "    <tr>\n",
       "      <th>83893</th>\n",
       "      <td>31506349293329</td>\n",
       "      <td>214432425</td>\n",
       "      <td>52594422</td>\n",
       "      <td>2019-12-31 23:45:49</td>\n",
       "    </tr>\n",
       "    <tr>\n",
       "      <th>4590</th>\n",
       "      <td>31506394434087</td>\n",
       "      <td>214432425</td>\n",
       "      <td>52594422</td>\n",
       "      <td>2019-12-31 23:46:35</td>\n",
       "    </tr>\n",
       "  </tbody>\n",
       "</table>\n",
       "<p>205998 rows × 4 columns</p>\n",
       "</div>"
      ],
      "text/plain": [
       "               orderid     shopid     userid          event_time\n",
       "188513  31195675919209      10061  168750452 2019-12-28 09:27:55\n",
       "174620  31205132327893      10061  194819216 2019-12-28 12:05:32\n",
       "200439  31412115824794      10061  130633421 2019-12-30 21:35:15\n",
       "145426  31431527100615      10061   62464559 2019-12-31 02:58:48\n",
       "167859  31075686185309      10084    4401933 2019-12-27 00:08:06\n",
       "...                ...        ...        ...                 ...\n",
       "182444  31407699385160  213900783  215251024 2019-12-30 20:21:39\n",
       "108246  31468414075366  214432425    1134243 2019-12-31 13:13:34\n",
       "133194  31505523761333  214432425    1134243 2019-12-31 23:32:03\n",
       "83893   31506349293329  214432425   52594422 2019-12-31 23:45:49\n",
       "4590    31506394434087  214432425   52594422 2019-12-31 23:46:35\n",
       "\n",
       "[205998 rows x 4 columns]"
      ]
     },
     "execution_count": 206,
     "metadata": {},
     "output_type": "execute_result"
    }
   ],
   "source": [
    "data2"
   ]
  },
  {
   "cell_type": "code",
   "execution_count": 207,
   "metadata": {},
   "outputs": [],
   "source": [
    "#Fungsi untuk mencari userid yang brushing dengan input dataframe dengan 1 shopid\n",
    "def getuser(test):\n",
    "    modus = True\n",
    "    sub = []\n",
    "    for i in range((len(test))):\n",
    "        time0 = test.iloc[i,3]\n",
    "        usr = 1\n",
    "        usrn = [test.iloc[i,2]]\n",
    "        for j in range(i+1, len(test)):\n",
    "            if (test.iloc[j,3] - time0).total_seconds() <= 3600:\n",
    "                usr+=1\n",
    "                usrn.append(test.iloc[j,2])\n",
    "            else:\n",
    "                break\n",
    "        for k in set(usrn):\n",
    "            if usrn.count(k) >= 3:\n",
    "                if k not in sub:\n",
    "                    sub.append(k)\n",
    "        if len(usrn) > 0:\n",
    "            if usr/len(set(usrn)) >= 3:\n",
    "                try:\n",
    "                    mode(usrn)\n",
    "                except:\n",
    "                    modus = False\n",
    "                    usrn = Counter(usrn)\n",
    "                    sub.extend([usrn.most_common()[i][0] for i in range(2)])\n",
    "                if modus:\n",
    "                    sub.append(mode(usrn))     \n",
    "        modus = True\n",
    "    if len(sub) == 0 or len(set(sub)) > 2: \n",
    "        return 0\n",
    "    else:\n",
    "        sub = list(set(sub))\n",
    "        sub.sort()\n",
    "        return(sub)"
   ]
  },
  {
   "cell_type": "code",
   "execution_count": 208,
   "metadata": {},
   "outputs": [],
   "source": [
    "#Mengaplikasikan fungsi getuser ke dataframe soal\n",
    "def fuck(up):\n",
    "    ids = [] #shopid yang brushing\n",
    "    idu = [] #userid yang brushing\n",
    "    for i in (up):\n",
    "        test = data2[data2['shopid'] == i].reset_index(drop=True)\n",
    "        ans = getuser(test)\n",
    "        if bool(ans):\n",
    "            ids.append(i)\n",
    "            idu.append(ans)\n",
    "    return [ids, idu]"
   ]
  },
  {
   "cell_type": "code",
   "execution_count": 209,
   "metadata": {},
   "outputs": [
    {
     "name": "stdout",
     "output_type": "stream",
     "text": [
      "CPU times: user 3min 6s, sys: 51.9 ms, total: 3min 6s\n",
      "Wall time: 3min 6s\n"
     ]
    }
   ],
   "source": [
    "%%time\n",
    "gd = fuck(susp2)"
   ]
  },
  {
   "cell_type": "code",
   "execution_count": 210,
   "metadata": {},
   "outputs": [
    {
     "data": {
      "text/plain": [
       "371"
      ]
     },
     "execution_count": 210,
     "metadata": {},
     "output_type": "execute_result"
    }
   ],
   "source": [
    "len(gd[0])"
   ]
  },
  {
   "cell_type": "code",
   "execution_count": 211,
   "metadata": {},
   "outputs": [],
   "source": [
    "#Membuat dataframe baru untuk jawaban yang baru ditemukan\n",
    "csv2 = pd.DataFrame({'shopid': gd[0], 'userid' : gd[1]}) "
   ]
  },
  {
   "cell_type": "code",
   "execution_count": 212,
   "metadata": {},
   "outputs": [],
   "source": [
    "#Membuat userid menjadi string dan menambahkan &\n",
    "csv2['userid'] = csv2['userid'].apply(lambda x: '&'.join([str(i) for i in x]))"
   ]
  },
  {
   "cell_type": "code",
   "execution_count": 213,
   "metadata": {},
   "outputs": [],
   "source": [
    "#Menggabungkan jawaban baru dengan jawaban awal\n",
    "csv3 = csv.append(csv2, ignore_index=True)"
   ]
  },
  {
   "cell_type": "code",
   "execution_count": 214,
   "metadata": {},
   "outputs": [],
   "source": [
    "#Mengahpus duplikat setelah digabungkan\n",
    "csv3 = csv3.drop_duplicates(subset='shopid', keep='last')"
   ]
  },
  {
   "cell_type": "code",
   "execution_count": 215,
   "metadata": {},
   "outputs": [
    {
     "data": {
      "text/html": [
       "<div>\n",
       "<style scoped>\n",
       "    .dataframe tbody tr th:only-of-type {\n",
       "        vertical-align: middle;\n",
       "    }\n",
       "\n",
       "    .dataframe tbody tr th {\n",
       "        vertical-align: top;\n",
       "    }\n",
       "\n",
       "    .dataframe thead th {\n",
       "        text-align: right;\n",
       "    }\n",
       "</style>\n",
       "<table border=\"1\" class=\"dataframe\">\n",
       "  <thead>\n",
       "    <tr style=\"text-align: right;\">\n",
       "      <th></th>\n",
       "      <th>shopid</th>\n",
       "      <th>userid</th>\n",
       "    </tr>\n",
       "  </thead>\n",
       "  <tbody>\n",
       "    <tr>\n",
       "      <th>599</th>\n",
       "      <td>3124091</td>\n",
       "      <td>214568881</td>\n",
       "    </tr>\n",
       "    <tr>\n",
       "      <th>3133</th>\n",
       "      <td>50682734</td>\n",
       "      <td>214365114</td>\n",
       "    </tr>\n",
       "    <tr>\n",
       "      <th>7687</th>\n",
       "      <td>129113839</td>\n",
       "      <td>215408773</td>\n",
       "    </tr>\n",
       "    <tr>\n",
       "      <th>9645</th>\n",
       "      <td>153444897</td>\n",
       "      <td>169948888</td>\n",
       "    </tr>\n",
       "    <tr>\n",
       "      <th>9671</th>\n",
       "      <td>153672697</td>\n",
       "      <td>214778616</td>\n",
       "    </tr>\n",
       "    <tr>\n",
       "      <th>...</th>\n",
       "      <td>...</td>\n",
       "      <td>...</td>\n",
       "    </tr>\n",
       "    <tr>\n",
       "      <th>19136</th>\n",
       "      <td>201557550</td>\n",
       "      <td>214605778</td>\n",
       "    </tr>\n",
       "    <tr>\n",
       "      <th>19137</th>\n",
       "      <td>203531250</td>\n",
       "      <td>114282846</td>\n",
       "    </tr>\n",
       "    <tr>\n",
       "      <th>19138</th>\n",
       "      <td>204225676</td>\n",
       "      <td>198662175</td>\n",
       "    </tr>\n",
       "    <tr>\n",
       "      <th>19139</th>\n",
       "      <td>208696908</td>\n",
       "      <td>214111334</td>\n",
       "    </tr>\n",
       "    <tr>\n",
       "      <th>19140</th>\n",
       "      <td>210197928</td>\n",
       "      <td>52867898</td>\n",
       "    </tr>\n",
       "  </tbody>\n",
       "</table>\n",
       "<p>384 rows × 2 columns</p>\n",
       "</div>"
      ],
      "text/plain": [
       "          shopid     userid\n",
       "599      3124091  214568881\n",
       "3133    50682734  214365114\n",
       "7687   129113839  215408773\n",
       "9645   153444897  169948888\n",
       "9671   153672697  214778616\n",
       "...          ...        ...\n",
       "19136  201557550  214605778\n",
       "19137  203531250  114282846\n",
       "19138  204225676  198662175\n",
       "19139  208696908  214111334\n",
       "19140  210197928   52867898\n",
       "\n",
       "[384 rows x 2 columns]"
      ]
     },
     "execution_count": 215,
     "metadata": {},
     "output_type": "execute_result"
    }
   ],
   "source": [
    "csv3[csv3['userid'] != 0]"
   ]
  },
  {
   "cell_type": "code",
   "execution_count": 216,
   "metadata": {},
   "outputs": [],
   "source": [
    "csv3.to_csv('uji.csv', index =False)"
   ]
  },
  {
   "cell_type": "code",
   "execution_count": 217,
   "metadata": {},
   "outputs": [
    {
     "data": {
      "text/plain": [
       "222750"
      ]
     },
     "execution_count": 217,
     "metadata": {},
     "output_type": "execute_result"
    }
   ],
   "source": [
    "len(data)"
   ]
  },
  {
   "cell_type": "code",
   "execution_count": null,
   "metadata": {},
   "outputs": [],
   "source": []
  }
 ],
 "metadata": {
  "kernelspec": {
   "display_name": "Python 3",
   "language": "python",
   "name": "python3"
  },
  "language_info": {
   "codemirror_mode": {
    "name": "ipython",
    "version": 3
   },
   "file_extension": ".py",
   "mimetype": "text/x-python",
   "name": "python",
   "nbconvert_exporter": "python",
   "pygments_lexer": "ipython3",
   "version": "3.7.7"
  }
 },
 "nbformat": 4,
 "nbformat_minor": 4
}
