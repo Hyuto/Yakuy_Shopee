{
 "cells": [
  {
   "cell_type": "markdown",
   "metadata": {},
   "source": [
    "<a id='0'></a>\n",
    "# Order Brushing\n",
    "\n",
    "\n",
    "Tugas:\n",
    "Mencari Shopid dan userid yang melakukaan brushing. Dengan kriteria dari brushing yaitu userid melakukan pembelian di toko yang sama dalam kurun waktu 1 jam sebanyak 3 kali atau lebih.\n",
    "\n",
    "Step:\n",
    "1. [Import library](#1)\n",
    "2. [Membaca data](#2)\n",
    "3. [Membuat data frame dengan semua shopid yang unik dengan nilai userid awal 0](#3)\n",
    "4. [Mencari brushing pada toko dengan 3 transaksi](#4)\n",
    "5. [Mencari brushing pada toko dengan transaksi lebih dari 3](#5)\n",
    "6. [Mengeksport hasilnya menjadi csv](#6)\n",
    "7. [Mengecek akurasi](#7)"
   ]
  },
  {
   "cell_type": "markdown",
   "metadata": {},
   "source": [
    "**Akurasi = 96,71%**"
   ]
  },
  {
   "cell_type": "markdown",
   "metadata": {},
   "source": [
    "**Runtime = 2 - 4 menit**"
   ]
  },
  {
   "cell_type": "markdown",
   "metadata": {},
   "source": [
    "## 1.Import library <a class=\"anchor\" id=\"1\"></a>\n",
    "Library yang dibutuhkan:\n",
    "1. pandas untuk mengolah dataframe dan csv\n",
    "2. datetime untuk mengolah data dengan format waktu\n",
    "3. statistics untuk mencari modus \n",
    "4. collection untuk mencari modus jika terdapat 2 modus (dapat menggunakan mode dari statistics pada python3.8)"
   ]
  },
  {
   "cell_type": "code",
   "execution_count": 291,
   "metadata": {},
   "outputs": [],
   "source": [
    "import pandas as pd\n",
    "from datetime import datetime\n",
    "from statistics import mode\n",
    "from collections import Counter"
   ]
  },
  {
   "cell_type": "markdown",
   "metadata": {},
   "source": [
    "## 2. Membaca data <a class=\"anchor\" id=\"2\"></a>\n",
    "1. Pertama kita rubah kolom event_time menjadi format waktu\n",
    "2. Untuk memudahkan pengerjaan data diurutkan berdasarkan shopid dan event_time"
   ]
  },
  {
   "cell_type": "code",
   "execution_count": 292,
   "metadata": {},
   "outputs": [],
   "source": [
    "data = pd.read_csv('order_brush_order.csv')"
   ]
  },
  {
   "cell_type": "code",
   "execution_count": 293,
   "metadata": {},
   "outputs": [],
   "source": [
    "data['event_time'] = data['event_time'].astype('datetime64[ns]')"
   ]
  },
  {
   "cell_type": "code",
   "execution_count": 294,
   "metadata": {},
   "outputs": [],
   "source": [
    "data = data.sort_values(['shopid', 'event_time'])"
   ]
  },
  {
   "cell_type": "code",
   "execution_count": 295,
   "metadata": {},
   "outputs": [
    {
     "data": {
      "text/html": [
       "<div>\n",
       "<style scoped>\n",
       "    .dataframe tbody tr th:only-of-type {\n",
       "        vertical-align: middle;\n",
       "    }\n",
       "\n",
       "    .dataframe tbody tr th {\n",
       "        vertical-align: top;\n",
       "    }\n",
       "\n",
       "    .dataframe thead th {\n",
       "        text-align: right;\n",
       "    }\n",
       "</style>\n",
       "<table border=\"1\" class=\"dataframe\">\n",
       "  <thead>\n",
       "    <tr style=\"text-align: right;\">\n",
       "      <th></th>\n",
       "      <th>orderid</th>\n",
       "      <th>shopid</th>\n",
       "      <th>userid</th>\n",
       "      <th>event_time</th>\n",
       "    </tr>\n",
       "  </thead>\n",
       "  <tbody>\n",
       "    <tr>\n",
       "      <th>59</th>\n",
       "      <td>31086409141107</td>\n",
       "      <td>10009</td>\n",
       "      <td>196962305</td>\n",
       "      <td>2019-12-27 03:06:50</td>\n",
       "    </tr>\n",
       "    <tr>\n",
       "      <th>76187</th>\n",
       "      <td>31144571933461</td>\n",
       "      <td>10051</td>\n",
       "      <td>2854032</td>\n",
       "      <td>2019-12-27 19:16:11</td>\n",
       "    </tr>\n",
       "    <tr>\n",
       "      <th>9055</th>\n",
       "      <td>31254979546679</td>\n",
       "      <td>10051</td>\n",
       "      <td>48600461</td>\n",
       "      <td>2019-12-29 01:56:19</td>\n",
       "    </tr>\n",
       "    <tr>\n",
       "      <th>188513</th>\n",
       "      <td>31195675919209</td>\n",
       "      <td>10061</td>\n",
       "      <td>168750452</td>\n",
       "      <td>2019-12-28 09:27:55</td>\n",
       "    </tr>\n",
       "    <tr>\n",
       "      <th>174620</th>\n",
       "      <td>31205132327893</td>\n",
       "      <td>10061</td>\n",
       "      <td>194819216</td>\n",
       "      <td>2019-12-28 12:05:32</td>\n",
       "    </tr>\n",
       "  </tbody>\n",
       "</table>\n",
       "</div>"
      ],
      "text/plain": [
       "               orderid  shopid     userid          event_time\n",
       "59      31086409141107   10009  196962305 2019-12-27 03:06:50\n",
       "76187   31144571933461   10051    2854032 2019-12-27 19:16:11\n",
       "9055    31254979546679   10051   48600461 2019-12-29 01:56:19\n",
       "188513  31195675919209   10061  168750452 2019-12-28 09:27:55\n",
       "174620  31205132327893   10061  194819216 2019-12-28 12:05:32"
      ]
     },
     "execution_count": 295,
     "metadata": {},
     "output_type": "execute_result"
    }
   ],
   "source": [
    "data.head()"
   ]
  },
  {
   "cell_type": "markdown",
   "metadata": {},
   "source": [
    "## 3. Membuat data frame untuk jawaban dengan nilai awal semua userid = 0 <a class=\"anchor\" id=\"3\"></a>\n",
    "Dengan terlebih dahulu kita mengelompokkan data berdasarkan shopid-nya"
   ]
  },
  {
   "cell_type": "code",
   "execution_count": 296,
   "metadata": {},
   "outputs": [],
   "source": [
    "shops = data.groupby(by='shopid').count()"
   ]
  },
  {
   "cell_type": "code",
   "execution_count": 297,
   "metadata": {},
   "outputs": [
    {
     "data": {
      "text/html": [
       "<div>\n",
       "<style scoped>\n",
       "    .dataframe tbody tr th:only-of-type {\n",
       "        vertical-align: middle;\n",
       "    }\n",
       "\n",
       "    .dataframe tbody tr th {\n",
       "        vertical-align: top;\n",
       "    }\n",
       "\n",
       "    .dataframe thead th {\n",
       "        text-align: right;\n",
       "    }\n",
       "</style>\n",
       "<table border=\"1\" class=\"dataframe\">\n",
       "  <thead>\n",
       "    <tr style=\"text-align: right;\">\n",
       "      <th></th>\n",
       "      <th>orderid</th>\n",
       "      <th>userid</th>\n",
       "      <th>event_time</th>\n",
       "    </tr>\n",
       "    <tr>\n",
       "      <th>shopid</th>\n",
       "      <th></th>\n",
       "      <th></th>\n",
       "      <th></th>\n",
       "    </tr>\n",
       "  </thead>\n",
       "  <tbody>\n",
       "    <tr>\n",
       "      <th>10009</th>\n",
       "      <td>1</td>\n",
       "      <td>1</td>\n",
       "      <td>1</td>\n",
       "    </tr>\n",
       "    <tr>\n",
       "      <th>10051</th>\n",
       "      <td>2</td>\n",
       "      <td>2</td>\n",
       "      <td>2</td>\n",
       "    </tr>\n",
       "    <tr>\n",
       "      <th>10061</th>\n",
       "      <td>4</td>\n",
       "      <td>4</td>\n",
       "      <td>4</td>\n",
       "    </tr>\n",
       "    <tr>\n",
       "      <th>10084</th>\n",
       "      <td>55</td>\n",
       "      <td>55</td>\n",
       "      <td>55</td>\n",
       "    </tr>\n",
       "    <tr>\n",
       "      <th>10100</th>\n",
       "      <td>42</td>\n",
       "      <td>42</td>\n",
       "      <td>42</td>\n",
       "    </tr>\n",
       "  </tbody>\n",
       "</table>\n",
       "</div>"
      ],
      "text/plain": [
       "        orderid  userid  event_time\n",
       "shopid                             \n",
       "10009         1       1           1\n",
       "10051         2       2           2\n",
       "10061         4       4           4\n",
       "10084        55      55          55\n",
       "10100        42      42          42"
      ]
     },
     "execution_count": 297,
     "metadata": {},
     "output_type": "execute_result"
    }
   ],
   "source": [
    "shops.head()"
   ]
  },
  {
   "cell_type": "code",
   "execution_count": 381,
   "metadata": {},
   "outputs": [],
   "source": [
    "csv = pd.DataFrame({'shopid' : shops.index, 'userid' : [0 for i in range(len(shops))]}).set_index('shopid')"
   ]
  },
  {
   "cell_type": "code",
   "execution_count": 382,
   "metadata": {},
   "outputs": [
    {
     "data": {
      "text/html": [
       "<div>\n",
       "<style scoped>\n",
       "    .dataframe tbody tr th:only-of-type {\n",
       "        vertical-align: middle;\n",
       "    }\n",
       "\n",
       "    .dataframe tbody tr th {\n",
       "        vertical-align: top;\n",
       "    }\n",
       "\n",
       "    .dataframe thead th {\n",
       "        text-align: right;\n",
       "    }\n",
       "</style>\n",
       "<table border=\"1\" class=\"dataframe\">\n",
       "  <thead>\n",
       "    <tr style=\"text-align: right;\">\n",
       "      <th></th>\n",
       "      <th>userid</th>\n",
       "    </tr>\n",
       "    <tr>\n",
       "      <th>shopid</th>\n",
       "      <th></th>\n",
       "    </tr>\n",
       "  </thead>\n",
       "  <tbody>\n",
       "    <tr>\n",
       "      <th>10009</th>\n",
       "      <td>0</td>\n",
       "    </tr>\n",
       "    <tr>\n",
       "      <th>10051</th>\n",
       "      <td>0</td>\n",
       "    </tr>\n",
       "    <tr>\n",
       "      <th>10061</th>\n",
       "      <td>0</td>\n",
       "    </tr>\n",
       "    <tr>\n",
       "      <th>10084</th>\n",
       "      <td>0</td>\n",
       "    </tr>\n",
       "    <tr>\n",
       "      <th>10100</th>\n",
       "      <td>0</td>\n",
       "    </tr>\n",
       "  </tbody>\n",
       "</table>\n",
       "</div>"
      ],
      "text/plain": [
       "        userid\n",
       "shopid        \n",
       "10009        0\n",
       "10051        0\n",
       "10061        0\n",
       "10084        0\n",
       "10100        0"
      ]
     },
     "execution_count": 382,
     "metadata": {},
     "output_type": "execute_result"
    }
   ],
   "source": [
    "csv.head()"
   ]
  },
  {
   "cell_type": "markdown",
   "metadata": {},
   "source": [
    "## 4. Mencari brushing pada toko dengan 3  transaksi <a class=\"anchor\" id=\"4\"></a>\n",
    "Step:\n",
    "1. Mencari shopsid dengan orderid  = 3\n",
    "2. Mencari brushing dengan kriteria: 1 shopid hanya terdapat 1 userid dan transaksi dilakukan kurang dari 1 jam\n",
    "3. Mengubah nilai pada dataframe jawaban dengan nilai userid yang telah ditemukan"
   ]
  },
  {
   "cell_type": "code",
   "execution_count": 383,
   "metadata": {},
   "outputs": [],
   "source": [
    "susp1 =  shops[shops['orderid'] == 3].index"
   ]
  },
  {
   "cell_type": "code",
   "execution_count": 384,
   "metadata": {},
   "outputs": [],
   "source": [
    "#Mencari brush user untuk shop dengan 3 transaksi\n",
    "susps = []  #shopid yang melakukan brushing\n",
    "suspu = []  #userid yang melakukan brushing\n",
    "for i in susp1:\n",
    "    dt = data[data['shopid']==i]\n",
    "    time0 = dt.iloc[0,3]\n",
    "    time1 = dt.iloc[-1,3]\n",
    "    if len(set(dt['userid'])) == 1 and ((time1-time0).total_seconds() <= 3600):\n",
    "        susps.append(dt.iloc[0,1])\n",
    "        suspu.append(dt.iloc[0,2])"
   ]
  },
  {
   "cell_type": "code",
   "execution_count": 385,
   "metadata": {},
   "outputs": [],
   "source": [
    "#Menambahkan userid yang telah terdeteksi brushing ke dataframe jawaban\n",
    "csv['userid'][susps] = suspu"
   ]
  },
  {
   "cell_type": "code",
   "execution_count": 386,
   "metadata": {},
   "outputs": [
    {
     "data": {
      "text/html": [
       "<div>\n",
       "<style scoped>\n",
       "    .dataframe tbody tr th:only-of-type {\n",
       "        vertical-align: middle;\n",
       "    }\n",
       "\n",
       "    .dataframe tbody tr th {\n",
       "        vertical-align: top;\n",
       "    }\n",
       "\n",
       "    .dataframe thead th {\n",
       "        text-align: right;\n",
       "    }\n",
       "</style>\n",
       "<table border=\"1\" class=\"dataframe\">\n",
       "  <thead>\n",
       "    <tr style=\"text-align: right;\">\n",
       "      <th></th>\n",
       "      <th>userid</th>\n",
       "    </tr>\n",
       "    <tr>\n",
       "      <th>shopid</th>\n",
       "      <th></th>\n",
       "    </tr>\n",
       "  </thead>\n",
       "  <tbody>\n",
       "    <tr>\n",
       "      <th>3124091</th>\n",
       "      <td>214568881</td>\n",
       "    </tr>\n",
       "    <tr>\n",
       "      <th>50682734</th>\n",
       "      <td>214365114</td>\n",
       "    </tr>\n",
       "    <tr>\n",
       "      <th>129113839</th>\n",
       "      <td>215408773</td>\n",
       "    </tr>\n",
       "    <tr>\n",
       "      <th>153444897</th>\n",
       "      <td>169948888</td>\n",
       "    </tr>\n",
       "    <tr>\n",
       "      <th>153672697</th>\n",
       "      <td>214778616</td>\n",
       "    </tr>\n",
       "    <tr>\n",
       "      <th>155016230</th>\n",
       "      <td>188431260</td>\n",
       "    </tr>\n",
       "    <tr>\n",
       "      <th>157939195</th>\n",
       "      <td>69563623</td>\n",
       "    </tr>\n",
       "    <tr>\n",
       "      <th>161196859</th>\n",
       "      <td>180862522</td>\n",
       "    </tr>\n",
       "    <tr>\n",
       "      <th>163351089</th>\n",
       "      <td>214778616</td>\n",
       "    </tr>\n",
       "    <tr>\n",
       "      <th>201428849</th>\n",
       "      <td>89254393</td>\n",
       "    </tr>\n",
       "    <tr>\n",
       "      <th>203070501</th>\n",
       "      <td>189834273</td>\n",
       "    </tr>\n",
       "    <tr>\n",
       "      <th>203440274</th>\n",
       "      <td>73308605</td>\n",
       "    </tr>\n",
       "    <tr>\n",
       "      <th>213141071</th>\n",
       "      <td>213646699</td>\n",
       "    </tr>\n",
       "  </tbody>\n",
       "</table>\n",
       "</div>"
      ],
      "text/plain": [
       "              userid\n",
       "shopid              \n",
       "3124091    214568881\n",
       "50682734   214365114\n",
       "129113839  215408773\n",
       "153444897  169948888\n",
       "153672697  214778616\n",
       "155016230  188431260\n",
       "157939195   69563623\n",
       "161196859  180862522\n",
       "163351089  214778616\n",
       "201428849   89254393\n",
       "203070501  189834273\n",
       "203440274   73308605\n",
       "213141071  213646699"
      ]
     },
     "execution_count": 386,
     "metadata": {},
     "output_type": "execute_result"
    }
   ],
   "source": [
    "csv.loc[susps]"
   ]
  },
  {
   "cell_type": "markdown",
   "metadata": {},
   "source": [
    "## 5. Mencari brushing pada toko dengan transaksi lebih dari 3 <a class=\"anchor\" id=\"5\"></a>\n",
    "Step:\n",
    "1. Mencari shopid dengan orderid > 3\n",
    "2. Membuat dataframe baru dari shopid yang didapatkan\n",
    "3. Mencari brushing dengan fungsi getuser\n",
    "4. Menggabungkan hasil yang didapat dengan dataframe csv "
   ]
  },
  {
   "cell_type": "code",
   "execution_count": 304,
   "metadata": {},
   "outputs": [],
   "source": [
    "susp2 = shops[shops['orderid'] > 3].index"
   ]
  },
  {
   "cell_type": "code",
   "execution_count": 305,
   "metadata": {},
   "outputs": [],
   "source": [
    "data2 = data[data['shopid'].isin(susp2)]"
   ]
  },
  {
   "cell_type": "code",
   "execution_count": 356,
   "metadata": {},
   "outputs": [
    {
     "data": {
      "text/html": [
       "<div>\n",
       "<style scoped>\n",
       "    .dataframe tbody tr th:only-of-type {\n",
       "        vertical-align: middle;\n",
       "    }\n",
       "\n",
       "    .dataframe tbody tr th {\n",
       "        vertical-align: top;\n",
       "    }\n",
       "\n",
       "    .dataframe thead th {\n",
       "        text-align: right;\n",
       "    }\n",
       "</style>\n",
       "<table border=\"1\" class=\"dataframe\">\n",
       "  <thead>\n",
       "    <tr style=\"text-align: right;\">\n",
       "      <th></th>\n",
       "      <th>orderid</th>\n",
       "      <th>shopid</th>\n",
       "      <th>userid</th>\n",
       "      <th>event_time</th>\n",
       "    </tr>\n",
       "  </thead>\n",
       "  <tbody>\n",
       "    <tr>\n",
       "      <th>188513</th>\n",
       "      <td>31195675919209</td>\n",
       "      <td>10061</td>\n",
       "      <td>168750452</td>\n",
       "      <td>2019-12-28 09:27:55</td>\n",
       "    </tr>\n",
       "    <tr>\n",
       "      <th>174620</th>\n",
       "      <td>31205132327893</td>\n",
       "      <td>10061</td>\n",
       "      <td>194819216</td>\n",
       "      <td>2019-12-28 12:05:32</td>\n",
       "    </tr>\n",
       "    <tr>\n",
       "      <th>200439</th>\n",
       "      <td>31412115824794</td>\n",
       "      <td>10061</td>\n",
       "      <td>130633421</td>\n",
       "      <td>2019-12-30 21:35:15</td>\n",
       "    </tr>\n",
       "    <tr>\n",
       "      <th>145426</th>\n",
       "      <td>31431527100615</td>\n",
       "      <td>10061</td>\n",
       "      <td>62464559</td>\n",
       "      <td>2019-12-31 02:58:48</td>\n",
       "    </tr>\n",
       "    <tr>\n",
       "      <th>167859</th>\n",
       "      <td>31075686185309</td>\n",
       "      <td>10084</td>\n",
       "      <td>4401933</td>\n",
       "      <td>2019-12-27 00:08:06</td>\n",
       "    </tr>\n",
       "  </tbody>\n",
       "</table>\n",
       "</div>"
      ],
      "text/plain": [
       "               orderid  shopid     userid          event_time\n",
       "188513  31195675919209   10061  168750452 2019-12-28 09:27:55\n",
       "174620  31205132327893   10061  194819216 2019-12-28 12:05:32\n",
       "200439  31412115824794   10061  130633421 2019-12-30 21:35:15\n",
       "145426  31431527100615   10061   62464559 2019-12-31 02:58:48\n",
       "167859  31075686185309   10084    4401933 2019-12-27 00:08:06"
      ]
     },
     "execution_count": 356,
     "metadata": {},
     "output_type": "execute_result"
    }
   ],
   "source": [
    "data2.head()"
   ]
  },
  {
   "cell_type": "markdown",
   "metadata": {},
   "source": [
    "**Cara kerja fungsi**\n",
    "1. Fungsi bekerja dengan dataframe dari 1 shopid saja\n",
    "2. Mencari transaksi yang terjadi dalam 1 jam. Jumlah transaksasi akan bertambah jika jeda transaksi kurang dari 1 jam dan akan terus berulang hingga jeda lebih dari 1 jam\n",
    "3. Jika jumlah transaksi dibagi jumlah userid lebih dari sama dengan 3 maka userid dengan transaksi terbanyak dikategorin brushing\n",
    "4. Dilihat dari jumlah transaksinya jika terdapat userid yang melakukan transaksi lebih dari sama dengan  3 maka dikategorikan brushing\n"
   ]
  },
  {
   "cell_type": "code",
   "execution_count": 360,
   "metadata": {},
   "outputs": [],
   "source": [
    "#Fungsi untuk mencari userid yang brushing dengan input dataframe dengan 1 shopid\n",
    "def getuser(test):\n",
    "    sub = []\n",
    "    for i in range((len(test))):\n",
    "        usr = 1\n",
    "        usrn = [test.iloc[i,2]]\n",
    "        time0 = test.iloc[i,3]\n",
    "        for j in range(i+1, len(test)):\n",
    "            time1 = test.iloc[j,3]\n",
    "            if (time1 - time0).total_seconds() <= 3600:\n",
    "                usr+=1\n",
    "                usrn.append(test.iloc[j,2])\n",
    "            else:\n",
    "                break\n",
    "        if len(usrn) > 0 and usr/len(set(usrn)) >= 3:\n",
    "            try:\n",
    "                sub.append(mode(usrn)) \n",
    "            except:\n",
    "                usrn = Counter(usrn)\n",
    "                sub.extend([usrn.most_common()[i][0] for i in range(2)])\n",
    "        else:\n",
    "            for k in set(usrn):\n",
    "                if usrn.count(k) >= 3:\n",
    "                    sub.append(k)\n",
    "    if len(sub) == 0 or len(set(sub)) > 2: \n",
    "        return 0\n",
    "    else:\n",
    "        sub = list(set(sub))\n",
    "        sub.sort()\n",
    "        return(sub)"
   ]
  },
  {
   "cell_type": "markdown",
   "metadata": {},
   "source": [
    "**Cara kerja fungsi**\n",
    "1. Input : List shopid \n",
    "2. Membuat dataframe baru dari 1 shopid\n",
    "3. Mengaplikasikan fungsi getuser untuk setiap data frame yang baru\n",
    "4. Output : List shopid dan userid yang terdeteksi brushing"
   ]
  },
  {
   "cell_type": "code",
   "execution_count": 376,
   "metadata": {},
   "outputs": [],
   "source": [
    "#Mengaplikasikan fungsi getuser ke dataframe soal\n",
    "def brush(up):\n",
    "    ids = [] #shopid yang brushing\n",
    "    idu = [] #userid yang brushing\n",
    "    for i in (up):\n",
    "        test = data2[data2['shopid'] == i].reset_index(drop=True)\n",
    "        ans = getuser(test)\n",
    "        if ans:\n",
    "            ids.append(i)\n",
    "            idu.append(ans)\n",
    "    return [ids, idu]"
   ]
  },
  {
   "cell_type": "code",
   "execution_count": 402,
   "metadata": {},
   "outputs": [
    {
     "name": "stdout",
     "output_type": "stream",
     "text": [
      "CPU times: user 3min 4s, sys: 51.9 ms, total: 3min 4s\n",
      "Wall time: 3min 4s\n"
     ]
    }
   ],
   "source": [
    "%%time\n",
    "brushs = brush(susp2)"
   ]
  },
  {
   "cell_type": "code",
   "execution_count": 403,
   "metadata": {},
   "outputs": [
    {
     "data": {
      "text/plain": [
       "371"
      ]
     },
     "execution_count": 403,
     "metadata": {},
     "output_type": "execute_result"
    }
   ],
   "source": [
    "len(brushs[0])"
   ]
  },
  {
   "cell_type": "code",
   "execution_count": 398,
   "metadata": {},
   "outputs": [],
   "source": [
    "csv['userid'][brushs[0]] = brushs[1]"
   ]
  },
  {
   "cell_type": "code",
   "execution_count": 399,
   "metadata": {},
   "outputs": [],
   "source": [
    "#Membuat userid menjadi string dan menambahkan &\n",
    "csv['userid'][brushs[0]] = csv['userid'][brushs[0]].apply(lambda x: '&'.join([str(i) for i in x]))"
   ]
  },
  {
   "cell_type": "code",
   "execution_count": 400,
   "metadata": {},
   "outputs": [
    {
     "data": {
      "text/html": [
       "<div>\n",
       "<style scoped>\n",
       "    .dataframe tbody tr th:only-of-type {\n",
       "        vertical-align: middle;\n",
       "    }\n",
       "\n",
       "    .dataframe tbody tr th {\n",
       "        vertical-align: top;\n",
       "    }\n",
       "\n",
       "    .dataframe thead th {\n",
       "        text-align: right;\n",
       "    }\n",
       "</style>\n",
       "<table border=\"1\" class=\"dataframe\">\n",
       "  <thead>\n",
       "    <tr style=\"text-align: right;\">\n",
       "      <th></th>\n",
       "      <th>userid</th>\n",
       "    </tr>\n",
       "    <tr>\n",
       "      <th>shopid</th>\n",
       "      <th></th>\n",
       "    </tr>\n",
       "  </thead>\n",
       "  <tbody>\n",
       "    <tr>\n",
       "      <th>10159</th>\n",
       "      <td>214988798</td>\n",
       "    </tr>\n",
       "    <tr>\n",
       "      <th>10287</th>\n",
       "      <td>198097381&amp;214226569</td>\n",
       "    </tr>\n",
       "    <tr>\n",
       "      <th>10402</th>\n",
       "      <td>77819</td>\n",
       "    </tr>\n",
       "    <tr>\n",
       "      <th>10536</th>\n",
       "      <td>672345</td>\n",
       "    </tr>\n",
       "    <tr>\n",
       "      <th>29583</th>\n",
       "      <td>214495220&amp;215275495</td>\n",
       "    </tr>\n",
       "    <tr>\n",
       "      <th>...</th>\n",
       "      <td>...</td>\n",
       "    </tr>\n",
       "    <tr>\n",
       "      <th>203531250</th>\n",
       "      <td>114282846</td>\n",
       "    </tr>\n",
       "    <tr>\n",
       "      <th>204225676</th>\n",
       "      <td>198662175</td>\n",
       "    </tr>\n",
       "    <tr>\n",
       "      <th>208696908</th>\n",
       "      <td>214111334</td>\n",
       "    </tr>\n",
       "    <tr>\n",
       "      <th>210197928</th>\n",
       "      <td>52867898</td>\n",
       "    </tr>\n",
       "    <tr>\n",
       "      <th>213141071</th>\n",
       "      <td>213646699</td>\n",
       "    </tr>\n",
       "  </tbody>\n",
       "</table>\n",
       "<p>384 rows × 1 columns</p>\n",
       "</div>"
      ],
      "text/plain": [
       "                        userid\n",
       "shopid                        \n",
       "10159                214988798\n",
       "10287      198097381&214226569\n",
       "10402                    77819\n",
       "10536                   672345\n",
       "29583      214495220&215275495\n",
       "...                        ...\n",
       "203531250            114282846\n",
       "204225676            198662175\n",
       "208696908            214111334\n",
       "210197928             52867898\n",
       "213141071            213646699\n",
       "\n",
       "[384 rows x 1 columns]"
      ]
     },
     "execution_count": 400,
     "metadata": {},
     "output_type": "execute_result"
    }
   ],
   "source": [
    "csv[csv['userid'] != 0]"
   ]
  },
  {
   "cell_type": "markdown",
   "metadata": {},
   "source": [
    "## 6. Mengekspor hasilnya menjadi CSV <a class=\"anchor\" id=\"6\"></a>"
   ]
  },
  {
   "cell_type": "code",
   "execution_count": 216,
   "metadata": {},
   "outputs": [],
   "source": [
    "csv.to_csv('uji.csv', index=False)"
   ]
  },
  {
   "cell_type": "markdown",
   "metadata": {},
   "source": [
    "## 7. Mengecek akurasi <a class=\"anchor\" id=\"7\"></a>\n",
    "Dengan membandingkan dengan hasil dengan akurasi 1. Perhitungannya jika userid benar tetapi useridnya 0 maka bernilai 0.005 jika hasilnya benar dan useridnya bukan 0 maka nilainya 1 selain itu nilainya 0."
   ]
  },
  {
   "cell_type": "code",
   "execution_count": 189,
   "metadata": {},
   "outputs": [],
   "source": [
    "cek = pd.read_csv('submission.csv').sort_values('shopid').set_index('shopid')"
   ]
  },
  {
   "cell_type": "code",
   "execution_count": 373,
   "metadata": {},
   "outputs": [],
   "source": [
    "def cek_acc(csv):\n",
    "    acc = 0\n",
    "    for i in range(len(csv)):\n",
    "        if str(csv.iloc[i,0]) == cek.iloc[i,0] and cek.iloc[i,0] !='0':\n",
    "            acc+=1\n",
    "        elif str(csv.iloc[i,0]) == cek.iloc[i,0] and cek.iloc[i,0] =='0':\n",
    "            acc+=0.005\n",
    "        else:\n",
    "            acc+=0\n",
    "    return(acc/407.275)"
   ]
  },
  {
   "cell_type": "code",
   "execution_count": 401,
   "metadata": {},
   "outputs": [
    {
     "data": {
      "text/plain": [
       "0.9671720581914554"
      ]
     },
     "execution_count": 401,
     "metadata": {},
     "output_type": "execute_result"
    }
   ],
   "source": [
    "cek_acc(csv)"
   ]
  },
  {
   "cell_type": "code",
   "execution_count": null,
   "metadata": {},
   "outputs": [],
   "source": []
  }
 ],
 "metadata": {
  "kernelspec": {
   "display_name": "Python 3",
   "language": "python",
   "name": "python3"
  },
  "language_info": {
   "codemirror_mode": {
    "name": "ipython",
    "version": 3
   },
   "file_extension": ".py",
   "mimetype": "text/x-python",
   "name": "python",
   "nbconvert_exporter": "python",
   "pygments_lexer": "ipython3",
   "version": "3.7.7"
  }
 },
 "nbformat": 4,
 "nbformat_minor": 4
}
