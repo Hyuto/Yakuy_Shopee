{
 "cells": [
  {
   "cell_type": "markdown",
   "metadata": {},
   "source": [
    "# Yakuy Code : Shopee Week 6 ~ Sentiment Analisis\n",
    "Special thanks to Tony Ng for providing addictional dataset <a href=\"https://www.kaggle.com/shymammoth/shopee-reviews\">disini</a>.\n",
    "### Kelebihan :\n",
    "1. Cukup mudah karena tidak melakukan preprocess data.\n",
    "2. Hasil yang diberikan cukup besar mengingat kode yang digunakan tidak terlalu ribet.\n",
    "### Kekurangan : \n",
    "1. Model yang dihasilkan tidak dapat membedakan kelas 5 dan 4.\n",
    "2. Hasil prediksi terlalu banyak pada kelas 5.\n",
    "3. Mungkin hasil yang diberikan bisa lebih besar jika dilakukan preprocess data\n",
    "### Main Idea :\n",
    "1. Concatting data train lama dengan data baru dengan proporsi tertentu<br>\n",
    "2. Menentukan Pretrained model yang akan digunakan.<br>\n",
    "Disini akan digunakan XLM-Roberta karena pretrained model ini dapat menghandle banyak bahasa dan sifat dari tokenizenya cukup soft.<br>\n",
    "Pretrained model lain yang disarankan : Bert Multilangual Cased.\n",
    "3. Menentukan besar sequence terpanjang yang akan di olah dari distribusi tokennya.<br>\n",
    "4. Membuat model XLMRoberta pada bagian inputnya dan kustomisasi untuk bagian outputnya agar model sesuai dengan yang diharapkan<br>\n",
    "5. Encoding data test terlebih dahulu<br>\n",
    "6. Melakukan Stratified Kfold untuk Cross Validitation sebanyak 3 split.<br>\n",
    "7. Melakukan fitting model pada ketiga data train pada foldnya lalu membuat prediksi pada data test dari ketiga model tersebut<br>\n",
    "8. Melakukan pooling dari hasil prediksi dengan `numpy argmax`<br>\n",
    "9. Membuat data Submission\n",
    "### Note :\n",
    "1. Masih menjadi pertanyaan kenapa pas dilakukan preprocess data pada model bert akurasinya malah turun bukannya naik, walaupun gw belum nyoba untuk model yang `XLMRoberta` ini."
   ]
  },
  {
   "cell_type": "markdown",
   "metadata": {},
   "source": [
    "## 1. Import Libraries\n",
    "Import dulu gan ~"
   ]
  },
  {
   "cell_type": "code",
   "execution_count": 1,
   "metadata": {
    "_cell_guid": "b1076dfc-b9ad-4769-8c92-a6c4dae69d19",
    "_uuid": "8f2839f25d086af736a60e9eeb907d3b93b6e0e5"
   },
   "outputs": [
    {
     "name": "stderr",
     "output_type": "stream",
     "text": [
      "\u001b[34m\u001b[1mwandb\u001b[0m: \u001b[33mWARNING\u001b[0m W&B installed but not logged in.  Run `wandb login` or set the WANDB_API_KEY env variable.\n"
     ]
    }
   ],
   "source": [
    "# Basic\n",
    "import os, warnings\n",
    "import numpy as np\n",
    "import pandas as pd\n",
    "import matplotlib.pyplot as plt\n",
    "import seaborn as sns\n",
    "from tqdm.notebook import tqdm\n",
    "\n",
    "# Tensorflow\n",
    "import tensorflow as tf\n",
    "import tensorflow.keras.backend as K\n",
    "from tensorflow.keras.layers import Dense, Input, Flatten, Dropout\n",
    "from tensorflow.keras.optimizers import Adam\n",
    "from tensorflow.keras.models import Model\n",
    "from tensorflow.keras.callbacks import ReduceLROnPlateau, ModelCheckpoint, EarlyStopping\n",
    "from tensorflow.keras.utils import to_categorical\n",
    "\n",
    "# Huggingface\n",
    "import transformers\n",
    "from transformers import *\n",
    "\n",
    "# Scikit Learn \n",
    "from sklearn.model_selection import StratifiedKFold\n",
    "\n",
    "warnings.simplefilter(\"ignore\")\n",
    "plt.style.use('ggplot')"
   ]
  },
  {
   "cell_type": "code",
   "execution_count": 2,
   "metadata": {},
   "outputs": [
    {
     "name": "stdout",
     "output_type": "stream",
     "text": [
      "Tensorflow version   2.2.0\n",
      "Transformer version  2.11.0\n"
     ]
    }
   ],
   "source": [
    "print('Tensorflow version  ', tf.__version__)\n",
    "print('Transformer version ', transformers.__version__)"
   ]
  },
  {
   "cell_type": "markdown",
   "metadata": {},
   "source": [
    "Config untuk konfigurasi pada model nantinya.<br>\n",
    "Model yang akan digunakan adalah `jplu/tf-xlm-roberta-base` dari librari Transformers (Huggingface)<br>\n",
    "Model yang ada pada library Huggingface ada <a href=\"https://huggingface.co/transformers/pretrained_models.html\">disini</a>"
   ]
  },
  {
   "cell_type": "code",
   "execution_count": 3,
   "metadata": {},
   "outputs": [],
   "source": [
    "# Configuration\n",
    "EPOCHS = 10\n",
    "MODEL = 'jplu/tf-xlm-roberta-base'"
   ]
  },
  {
   "cell_type": "markdown",
   "metadata": {},
   "source": [
    "## 2. Load dataset"
   ]
  },
  {
   "cell_type": "code",
   "execution_count": 4,
   "metadata": {},
   "outputs": [
    {
     "data": {
      "text/html": [
       "<div>\n",
       "<style scoped>\n",
       "    .dataframe tbody tr th:only-of-type {\n",
       "        vertical-align: middle;\n",
       "    }\n",
       "\n",
       "    .dataframe tbody tr th {\n",
       "        vertical-align: top;\n",
       "    }\n",
       "\n",
       "    .dataframe thead th {\n",
       "        text-align: right;\n",
       "    }\n",
       "</style>\n",
       "<table border=\"1\" class=\"dataframe\">\n",
       "  <thead>\n",
       "    <tr style=\"text-align: right;\">\n",
       "      <th></th>\n",
       "      <th>review_id</th>\n",
       "      <th>review</th>\n",
       "      <th>rating</th>\n",
       "    </tr>\n",
       "  </thead>\n",
       "  <tbody>\n",
       "    <tr>\n",
       "      <th>0</th>\n",
       "      <td>0</td>\n",
       "      <td>Ga disappointed neat products .. Meletot Hilsn...</td>\n",
       "      <td>1</td>\n",
       "    </tr>\n",
       "    <tr>\n",
       "      <th>1</th>\n",
       "      <td>1</td>\n",
       "      <td>Rdtanya replace broken glass, broken chargernya</td>\n",
       "      <td>1</td>\n",
       "    </tr>\n",
       "    <tr>\n",
       "      <th>2</th>\n",
       "      <td>2</td>\n",
       "      <td>Nyesel bngt dsni shopping antecedent photo mes...</td>\n",
       "      <td>1</td>\n",
       "    </tr>\n",
       "    <tr>\n",
       "      <th>3</th>\n",
       "      <td>3</td>\n",
       "      <td>Sent a light blue suit goods ga want a refund</td>\n",
       "      <td>1</td>\n",
       "    </tr>\n",
       "    <tr>\n",
       "      <th>4</th>\n",
       "      <td>4</td>\n",
       "      <td>Pendants came with dents and scratches on its ...</td>\n",
       "      <td>1</td>\n",
       "    </tr>\n",
       "  </tbody>\n",
       "</table>\n",
       "</div>"
      ],
      "text/plain": [
       "   review_id                                             review  rating\n",
       "0          0  Ga disappointed neat products .. Meletot Hilsn...       1\n",
       "1          1    Rdtanya replace broken glass, broken chargernya       1\n",
       "2          2  Nyesel bngt dsni shopping antecedent photo mes...       1\n",
       "3          3      Sent a light blue suit goods ga want a refund       1\n",
       "4          4  Pendants came with dents and scratches on its ...       1"
      ]
     },
     "execution_count": 4,
     "metadata": {},
     "output_type": "execute_result"
    }
   ],
   "source": [
    "# Load main dataset\n",
    "train = pd.read_csv('../input/student-shopee-code-league-sentiment-analysis/train.csv')\n",
    "test = pd.read_csv('../input/student-shopee-code-league-sentiment-analysis/test.csv')\n",
    "train.head()"
   ]
  },
  {
   "cell_type": "code",
   "execution_count": 5,
   "metadata": {},
   "outputs": [
    {
     "data": {
      "text/html": [
       "<div>\n",
       "<style scoped>\n",
       "    .dataframe tbody tr th:only-of-type {\n",
       "        vertical-align: middle;\n",
       "    }\n",
       "\n",
       "    .dataframe tbody tr th {\n",
       "        vertical-align: top;\n",
       "    }\n",
       "\n",
       "    .dataframe thead th {\n",
       "        text-align: right;\n",
       "    }\n",
       "</style>\n",
       "<table border=\"1\" class=\"dataframe\">\n",
       "  <thead>\n",
       "    <tr style=\"text-align: right;\">\n",
       "      <th></th>\n",
       "      <th>review_id</th>\n",
       "      <th>review</th>\n",
       "      <th>rating</th>\n",
       "    </tr>\n",
       "  </thead>\n",
       "  <tbody>\n",
       "    <tr>\n",
       "      <th>0</th>\n",
       "      <td>75950</td>\n",
       "      <td>mantullllll. i like you like she likes. all lo...</td>\n",
       "      <td>4</td>\n",
       "    </tr>\n",
       "    <tr>\n",
       "      <th>1</th>\n",
       "      <td>116802</td>\n",
       "      <td>ky package, fast delivery. sua genuine, date: ...</td>\n",
       "      <td>5</td>\n",
       "    </tr>\n",
       "    <tr>\n",
       "      <th>2</th>\n",
       "      <td>71108</td>\n",
       "      <td>sp vs buy cheap. ok. y shape 👌👌👌👌👌👌👌👌👌👌👌👌👌👌👌👌👌...</td>\n",
       "      <td>4</td>\n",
       "    </tr>\n",
       "    <tr>\n",
       "      <th>3</th>\n",
       "      <td>83408</td>\n",
       "      <td>product quality is very good very good value ...</td>\n",
       "      <td>4</td>\n",
       "    </tr>\n",
       "    <tr>\n",
       "      <th>4</th>\n",
       "      <td>139373</td>\n",
       "      <td>kind received great! no flaws, but also a very...</td>\n",
       "      <td>5</td>\n",
       "    </tr>\n",
       "  </tbody>\n",
       "</table>\n",
       "</div>"
      ],
      "text/plain": [
       "   review_id                                             review  rating\n",
       "0      75950  mantullllll. i like you like she likes. all lo...       4\n",
       "1     116802  ky package, fast delivery. sua genuine, date: ...       5\n",
       "2      71108  sp vs buy cheap. ok. y shape 👌👌👌👌👌👌👌👌👌👌👌👌👌👌👌👌👌...       4\n",
       "3      83408   product quality is very good very good value ...       4\n",
       "4     139373  kind received great! no flaws, but also a very...       5"
      ]
     },
     "execution_count": 5,
     "metadata": {},
     "output_type": "execute_result"
    }
   ],
   "source": [
    "# Dropping duplicate value karena akan sangat berpengaruh pada nilai Cross Validation nantinya\n",
    "train['review'] = train.review.apply(lambda x : x.lower())\n",
    "train = shuffle(train.drop_duplicates('review'), random_state = 42).reset_index(drop=True)\n",
    "train.head()"
   ]
  },
  {
   "cell_type": "code",
   "execution_count": 6,
   "metadata": {},
   "outputs": [
    {
     "data": {
      "image/png": "[encoded data removed]",
      "text/plain": [
       "<Figure size 576x576 with 1 Axes>"
      ]
     },
     "metadata": {},
     "output_type": "display_data"
    }
   ],
   "source": [
    "plt.figure(figsize=(8,8))\n",
    "sns.countplot(train['rating'])\n",
    "plt.title('Freq of Each Class')\n",
    "plt.show()"
   ]
  },
  {
   "cell_type": "code",
   "execution_count": 7,
   "metadata": {},
   "outputs": [
    {
     "data": {
      "text/html": [
       "<div>\n",
       "<style scoped>\n",
       "    .dataframe tbody tr th:only-of-type {\n",
       "        vertical-align: middle;\n",
       "    }\n",
       "\n",
       "    .dataframe tbody tr th {\n",
       "        vertical-align: top;\n",
       "    }\n",
       "\n",
       "    .dataframe thead th {\n",
       "        text-align: right;\n",
       "    }\n",
       "</style>\n",
       "<table border=\"1\" class=\"dataframe\">\n",
       "  <thead>\n",
       "    <tr style=\"text-align: right;\">\n",
       "      <th></th>\n",
       "      <th>rating</th>\n",
       "      <th>review</th>\n",
       "    </tr>\n",
       "  </thead>\n",
       "  <tbody>\n",
       "    <tr>\n",
       "      <th>0</th>\n",
       "      <td>5</td>\n",
       "      <td>well received. fast delivery.  considering get...</td>\n",
       "    </tr>\n",
       "    <tr>\n",
       "      <th>1</th>\n",
       "      <td>5</td>\n",
       "      <td>received in good condition. working well.</td>\n",
       "    </tr>\n",
       "    <tr>\n",
       "      <th>2</th>\n",
       "      <td>5</td>\n",
       "      <td>received item in good condition. fast delivery...</td>\n",
       "    </tr>\n",
       "    <tr>\n",
       "      <th>3</th>\n",
       "      <td>4</td>\n",
       "      <td>good value 1 for 1 so bought 4 boxes but total...</td>\n",
       "    </tr>\n",
       "    <tr>\n",
       "      <th>4</th>\n",
       "      <td>5</td>\n",
       "      <td>the toys are wrapped up in bubble bag and deli...</td>\n",
       "    </tr>\n",
       "    <tr>\n",
       "      <th>...</th>\n",
       "      <td>...</td>\n",
       "      <td>...</td>\n",
       "    </tr>\n",
       "    <tr>\n",
       "      <th>1494507</th>\n",
       "      <td>5</td>\n",
       "      <td>came nicely packed, delivery time was okay. wa...</td>\n",
       "    </tr>\n",
       "    <tr>\n",
       "      <th>1494508</th>\n",
       "      <td>5</td>\n",
       "      <td>item as per described. good quality and fast d...</td>\n",
       "    </tr>\n",
       "    <tr>\n",
       "      <th>1494509</th>\n",
       "      <td>5</td>\n",
       "      <td>good delivery service. the items look good. ye...</td>\n",
       "    </tr>\n",
       "    <tr>\n",
       "      <th>1494510</th>\n",
       "      <td>5</td>\n",
       "      <td>comfy. not the hot material. just like normal ...</td>\n",
       "    </tr>\n",
       "    <tr>\n",
       "      <th>1494511</th>\n",
       "      <td>5</td>\n",
       "      <td>items received and had no problem securing my ...</td>\n",
       "    </tr>\n",
       "  </tbody>\n",
       "</table>\n",
       "<p>1494512 rows × 2 columns</p>\n",
       "</div>"
      ],
      "text/plain": [
       "         rating                                             review\n",
       "0             5  well received. fast delivery.  considering get...\n",
       "1             5          received in good condition. working well.\n",
       "2             5  received item in good condition. fast delivery...\n",
       "3             4  good value 1 for 1 so bought 4 boxes but total...\n",
       "4             5  the toys are wrapped up in bubble bag and deli...\n",
       "...         ...                                                ...\n",
       "1494507       5  came nicely packed, delivery time was okay. wa...\n",
       "1494508       5  item as per described. good quality and fast d...\n",
       "1494509       5  good delivery service. the items look good. ye...\n",
       "1494510       5  comfy. not the hot material. just like normal ...\n",
       "1494511       5  items received and had no problem securing my ...\n",
       "\n",
       "[1494512 rows x 2 columns]"
      ]
     },
     "execution_count": 7,
     "metadata": {},
     "output_type": "execute_result"
    }
   ],
   "source": [
    "# Load Additional Dataset\n",
    "new = pd.read_csv('../input/shopee-reviews/shopee_reviews.csv')\n",
    "new = new[new['label'] != 'label'].reset_index(drop=True)\n",
    "new['label'] = new['label'].astype(int)\n",
    "new['text'] = new.text.apply(lambda x : x.lower())\n",
    "new = shuffle(new.drop_duplicates('text'), random_state = 42).reset_index(drop=True)\n",
    "new = new.rename(columns={'label': 'rating', 'text' : 'review'})\n",
    "new"
   ]
  },
  {
   "cell_type": "code",
   "execution_count": 8,
   "metadata": {},
   "outputs": [
    {
     "data": {
      "image/png": "[encoded data removed]",
      "text/plain": [
       "<Figure size 576x576 with 1 Axes>"
      ]
     },
     "metadata": {},
     "output_type": "display_data"
    }
   ],
   "source": [
    "plt.figure(figsize = (8,8))\n",
    "sns.countplot(new.rating.values)\n",
    "plt.show()"
   ]
  },
  {
   "cell_type": "code",
   "execution_count": 9,
   "metadata": {},
   "outputs": [],
   "source": [
    "def concat(a, b, target, num):\n",
    "    \"\"\"\n",
    "    Fungsi untuk menggabungkan 2 Dataframe dengan proporsi tertentu.\n",
    "    \"\"\"\n",
    "    for i in a[target].value_counts().keys():\n",
    "        temp = num - sum(a[target] == i)\n",
    "        if temp > 0:\n",
    "            if sum(a[target] == i) + sum(b[target] == i) >= num:\n",
    "                a = pd.concat([a, b[b[target] == i].sample(n=temp, random_state=42)])\n",
    "            else:\n",
    "                a = pd.concat([a, b[b[target] == i]])\n",
    "    return a.reset_index(drop=True)"
   ]
  },
  {
   "cell_type": "markdown",
   "metadata": {},
   "source": [
    "Karena data tambahan memiliki ketidakseimbangan kelas yang parah jadi kita hanya akan mengambil data secukupnya dari data tersebut.<br>\n",
    "Disini kita hanya ingin mengambil beberapa data agar masing masing kelas pada data utama menjadi sebanyak 40k data."
   ]
  },
  {
   "cell_type": "code",
   "execution_count": 10,
   "metadata": {},
   "outputs": [
    {
     "data": {
      "text/plain": [
       "<matplotlib.axes._subplots.AxesSubplot at 0x7f4689358910>"
      ]
     },
     "execution_count": 10,
     "metadata": {},
     "output_type": "execute_result"
    },
    {
     "data": {
      "image/png": "[encoded data removed]",
      "text/plain": [
       "<Figure size 432x288 with 1 Axes>"
      ]
     },
     "metadata": {},
     "output_type": "display_data"
    }
   ],
   "source": [
    "fixed = concat(train, new, 'rating', 40000)\n",
    "sns.countplot(fixed.rating.values)"
   ]
  },
  {
   "cell_type": "markdown",
   "metadata": {},
   "source": [
    "## 3. Tokenizer\n",
    "Tokenizer adalah fungsi yang bertugas mengubah data kata\" menjadi angka\". Tokennizer yang akan digunakan disini adalah tokenizer khusus yang diperlukan dari pretrained model kita yaitu `XLMRobertaTokenizer`."
   ]
  },
  {
   "cell_type": "code",
   "execution_count": 11,
   "metadata": {},
   "outputs": [
    {
     "data": {
      "application/vnd.jupyter.widget-view+json": {
       "model_id": "fb34e5c9534648af8d22c52e93f2d326",
       "version_major": 2,
       "version_minor": 0
      },
      "text/plain": [
       "HBox(children=(FloatProgress(value=0.0, description='Downloading', max=512.0, style=ProgressStyle(description_…"
      ]
     },
     "metadata": {},
     "output_type": "display_data"
    },
    {
     "name": "stdout",
     "output_type": "stream",
     "text": [
      "\n"
     ]
    },
    {
     "data": {
      "application/vnd.jupyter.widget-view+json": {
       "model_id": "f00d1d3fd7aa41c28570b469de4de198",
       "version_major": 2,
       "version_minor": 0
      },
      "text/plain": [
       "HBox(children=(FloatProgress(value=0.0, description='Downloading', max=5069051.0, style=ProgressStyle(descript…"
      ]
     },
     "metadata": {},
     "output_type": "display_data"
    },
    {
     "name": "stdout",
     "output_type": "stream",
     "text": [
      "\n"
     ]
    }
   ],
   "source": [
    "# First load the real tokenizer\n",
    "tokenizer = AutoTokenizer.from_pretrained(MODEL, add_prefix_space=True, lowercase = True, add_special_tokens=True)"
   ]
  },
  {
   "cell_type": "markdown",
   "metadata": {},
   "source": [
    "Checking distribusi dari banyaknya kata perkalimat yang aka kita olah untuk menentukan panjang kata terbanyak yang akan diproses perkalimatnya."
   ]
  },
  {
   "cell_type": "code",
   "execution_count": 12,
   "metadata": {},
   "outputs": [
    {
     "data": {
      "text/plain": [
       "count    190178.000000\n",
       "mean         27.342626\n",
       "std          19.178036\n",
       "min           2.000000\n",
       "25%          14.000000\n",
       "50%          22.000000\n",
       "75%          35.000000\n",
       "max         579.000000\n",
       "Name: review, dtype: float64"
      ]
     },
     "execution_count": 12,
     "metadata": {},
     "output_type": "execute_result"
    }
   ],
   "source": [
    "fixed.review.apply(lambda x : len(tokenizer.encode(x))).describe()"
   ]
  },
  {
   "cell_type": "code",
   "execution_count": 13,
   "metadata": {},
   "outputs": [
    {
     "data": {
      "image/png": "[encoded data removed]",
      "text/plain": [
       "<Figure size 576x576 with 1 Axes>"
      ]
     },
     "metadata": {},
     "output_type": "display_data"
    }
   ],
   "source": [
    "plt.figure(figsize=(8,8))\n",
    "sns.distplot(fixed.review.apply(lambda x : len(tokenizer.encode(x))).values)\n",
    "plt.show()"
   ]
  },
  {
   "cell_type": "markdown",
   "metadata": {},
   "source": [
    "Dilihat dari grafiknya dapat disimpulkan bahwa kira kira 100 kata perkalimatnya sudah cukup untuk model kita teliti"
   ]
  },
  {
   "cell_type": "code",
   "execution_count": 14,
   "metadata": {},
   "outputs": [],
   "source": [
    "MAX_LEN = 100"
   ]
  },
  {
   "cell_type": "code",
   "execution_count": 15,
   "metadata": {},
   "outputs": [
    {
     "name": "stdout",
     "output_type": "stream",
     "text": [
      "### Actual ###\n",
      "it's sooooo cute! i like playing with the glitters better than browsing on my phone now. item was also deliered earlier than i expected. thank you seller! may you have more buyers to come. 😊😊😊\n",
      "# Tokenized ##\n",
      "['▁it', \"'\", 's', '▁so', 'oooo', '▁cute', '!', '▁i', '▁like', '▁playing', '▁with', '▁the', '▁glitter', 's', '▁better', '▁than', '▁browsing', '▁on', '▁my', '▁phone', '▁now', '.', '▁item', '▁was', '▁also', '▁de', 'lier', 'ed', '▁earlier', '▁than', '▁i', '▁expected', '.', '▁thank', '▁you', '▁selle', 'r', '!', '▁may', '▁you', '▁have', '▁more', '▁buy', 'ers', '▁to', '▁come', '.', '▁', '😊', '😊', '😊']\n",
      "#### Ids #####\n",
      "[0, 442, 25, 7, 221, 61957, 99942, 38, 17, 1884, 75169, 678, 70, 186116, 7, 11522, 3501, 231602, 98, 759, 24089, 5036, 5, 35735, 509, 2843, 8, 56786, 297, 110680, 3501, 17, 84751, 5, 51544, 398, 7666, 42, 38, 1543, 398, 765, 1286, 22113, 1314, 47, 1380, 5, 6, 82803, 82803, 82803, 2]\n"
     ]
    }
   ],
   "source": [
    "# Cek Kerja Tokenizer\n",
    "print(' Actual '.center(14, '#'))\n",
    "print(test.review.values[4])\n",
    "print(' Tokenized '.center(14, '#'))\n",
    "print(tokenizer.tokenize(test.review.values[4]))\n",
    "print(' Ids '.center(14, '#'))\n",
    "print(tokenizer.encode(test.review.values[4]))"
   ]
  },
  {
   "cell_type": "code",
   "execution_count": 16,
   "metadata": {},
   "outputs": [
    {
     "name": "stdout",
     "output_type": "stream",
     "text": [
      "Running on TPU  grpc://10.0.0.2:8470\n",
      "REPLICAS:  8\n"
     ]
    }
   ],
   "source": [
    "# Konfigurasi Untuk TPU\n",
    "# Detect hardware, return appropriate distribution strategy\n",
    "try:\n",
    "    # TPU detection. No parameters necessary if TPU_NAME environment variable is\n",
    "    # set: this is always the case on Kaggle.\n",
    "    tpu = tf.distribute.cluster_resolver.TPUClusterResolver()\n",
    "    print('Running on TPU ', tpu.master())\n",
    "except ValueError:\n",
    "    tpu = None\n",
    "\n",
    "if tpu:\n",
    "    tf.config.experimental_connect_to_cluster(tpu)\n",
    "    tf.tpu.experimental.initialize_tpu_system(tpu)\n",
    "    strategy = tf.distribute.experimental.TPUStrategy(tpu)\n",
    "else:\n",
    "    # Default distribution strategy in Tensorflow. Works on CPU and single GPU.\n",
    "    strategy = tf.distribute.get_strategy()\n",
    "\n",
    "AUTO = tf.data.experimental.AUTOTUNE\n",
    "print(\"REPLICAS: \", strategy.num_replicas_in_sync)"
   ]
  },
  {
   "cell_type": "code",
   "execution_count": 17,
   "metadata": {},
   "outputs": [],
   "source": [
    "# Batch Tokenizer\n",
    "def tokenize(sentences, tokenizer, maxlen = 512):\n",
    "    input_ids, input_masks, input_segments = [],[],[]\n",
    "    for sentence in sentences:\n",
    "        inputs = tokenizer.encode_plus(sentence, add_special_tokens=True, max_length=maxlen, pad_to_max_length=True, \n",
    "                                             return_attention_mask=True, return_token_type_ids=True)\n",
    "        input_ids.append(inputs['input_ids'])\n",
    "        input_masks.append(inputs['attention_mask'])\n",
    "        input_segments.append(inputs['token_type_ids'])        \n",
    "        \n",
    "    return [np.asarray(input_ids, dtype='int32'), np.asarray(input_masks, dtype='int32'), np.asarray(input_segments, dtype='int32')]"
   ]
  },
  {
   "cell_type": "code",
   "execution_count": 18,
   "metadata": {},
   "outputs": [],
   "source": [
    "# Encoding data test terlebih dahulu\n",
    "x_test = tokenize(test.review.values, tokenizer, maxlen = MAX_LEN)"
   ]
  },
  {
   "cell_type": "markdown",
   "metadata": {},
   "source": [
    "## 4. Fungsi untuk Membuat Model\n",
    "Membuat fungsi untuk membuat model agar dapat dipanggi sewaktu waktu pada proses cross validitation.<br>\n",
    "Model terinspirasi dari <a href=\"https://www.kaggle.com/cdeotte/tensorflow-roberta-0-705\">sini</a>"
   ]
  },
  {
   "cell_type": "code",
   "execution_count": 19,
   "metadata": {},
   "outputs": [],
   "source": [
    "def build_model():\n",
    "    ids = tf.keras.layers.Input((MAX_LEN,), dtype=tf.int32, name='input_ids')\n",
    "    att = tf.keras.layers.Input((MAX_LEN,), dtype=tf.int32, name='attention_mask')\n",
    "    tok = tf.keras.layers.Input((MAX_LEN,), dtype=tf.int32, name='token_type_ids')\n",
    "\n",
    "    config = XLMRobertaConfig.from_pretrained(MODEL)\n",
    "    bert_model = TFXLMRobertaModel.from_pretrained(MODEL, config=config)\n",
    "    pooled_output, sequence_output = bert_model(ids,\n",
    "                   attention_mask=att,\n",
    "                   token_type_ids=tok)\n",
    "    X = Flatten()(pooled_output)\n",
    "    X = tf.keras.layers.Dense(256, activation='relu')(X)\n",
    "    X = tf.keras.layers.Dropout(0.35)(X)\n",
    "    X = tf.keras.layers.Dense(5, activation='softmax')(X)\n",
    "\n",
    "    model = tf.keras.models.Model(inputs=[ids, att, tok], outputs = X)\n",
    "    \n",
    "    for layer in model.layers[:3]:\n",
    "        layer.trainable = False\n",
    "        \n",
    "    optimizer = tf.keras.optimizers.Adam(learning_rate=3e-5)\n",
    "    model.compile(loss='categorical_crossentropy', optimizer = optimizer, metrics=['accuracy'])\n",
    "\n",
    "    return model"
   ]
  },
  {
   "cell_type": "markdown",
   "metadata": {},
   "source": [
    "## 5. Statified Kfold\n",
    "Proses ini adalah proses utamanya. Pada tahap ini kita membagi data train menjadi 3 Fold karena Session TPU pada kaggle itu cuman bisa 3 jam jadi biar cukup waktunya jadi 3 Fold aja wkwk (kalo bisasih lebih baik 5 Fold). Kenapa Stratfied Kfold? Karena data yang kita punya itu kelasnya sangat imbalance jadi Stratfied Kfold punya kelebihan dari Kfold yang biasa"
   ]
  },
  {
   "cell_type": "code",
   "execution_count": 20,
   "metadata": {},
   "outputs": [
    {
     "name": "stdout",
     "output_type": "stream",
     "text": [
      "[INFO] Working on Batch : 1\n",
      "[INFO] Encoding text\n",
      "[INFO] Fitting Model\n"
     ]
    },
    {
     "data": {
      "application/vnd.jupyter.widget-view+json": {
       "model_id": "344c0b96ee96494ab11e8628442fac55",
       "version_major": 2,
       "version_minor": 0
      },
      "text/plain": [
       "HBox(children=(FloatProgress(value=0.0, description='Downloading', max=1885418496.0, style=ProgressStyle(descr…"
      ]
     },
     "metadata": {},
     "output_type": "display_data"
    },
    {
     "name": "stdout",
     "output_type": "stream",
     "text": [
      "\n",
      "Epoch 1/10\n",
      "3962/3962 [==============================] - 454s 115ms/step - accuracy: 0.4591 - loss: 1.1794 - val_accuracy: 0.4922 - val_loss: 1.0908 - lr: 3.0000e-05\n",
      "Epoch 2/10\n",
      "3962/3962 [==============================] - 450s 113ms/step - accuracy: 0.4934 - loss: 1.0984 - val_accuracy: 0.5037 - val_loss: 1.0773 - lr: 3.0000e-05\n",
      "Epoch 3/10\n",
      "3962/3962 [==============================] - 438s 111ms/step - accuracy: 0.3055 - loss: 1.4371 - val_accuracy: 0.2103 - val_loss: 1.6064 - lr: 3.0000e-05\n",
      "Epoch 4/10\n",
      "3962/3962 [==============================] - 432s 109ms/step - accuracy: 0.5538 - loss: 0.9484 - val_accuracy: 0.5077 - val_loss: 1.0764 - lr: 3.0000e-06\n",
      "[INFO] Loading Model\n",
      "[INFO] Evaluating Model\n",
      " 100/1981 [>.............................] - ETA: 35s - accuracy: 0.4787 - loss: 1.0978"
     ]
    }
   ],
   "source": [
    "# X dan y Train\n",
    "X = fixed.review.values\n",
    "y = fixed.rating.values\n",
    "\n",
    "# Strarified Kfold\n",
    "kfold = StratifiedKFold(n_splits=3, shuffle=True, random_state = 42)\n",
    "# Array kosong yang akan diisi nantinya dari setiap model per Foldnya\n",
    "pred = np.zeros(shape = (len(test.review.values), 5))\n",
    "# Menyimpan Validation Accuracy dari setiap model per Foldnya\n",
    "scores = []\n",
    "\n",
    "for fold, (train_ind, test_ind) in enumerate(kfold.split(X, y)):\n",
    "    # Cleaning everything\n",
    "    K.clear_session()\n",
    "    tf.tpu.experimental.initialize_tpu_system(tpu)\n",
    "\n",
    "    # Mengambil data perFoldnya\n",
    "    print('[INFO] Working on Batch :', fold + 1)\n",
    "    x_train, y_train = X[train_ind], to_categorical(y[train_ind] - 1)\n",
    "    x_val, y_val = X[test_ind], to_categorical(y[test_ind] - 1)\n",
    "\n",
    "    # Encoding train dataset perFoldnya\n",
    "    print('[INFO] Encoding text')\n",
    "    x_train = tokenize(x_train, tokenizer, maxlen=MAX_LEN)\n",
    "    x_valid = tokenize(x_val, tokenizer, maxlen=MAX_LEN)\n",
    "    \n",
    "    # Fitting model perFoldnya\n",
    "    print('[INFO] Fitting Model')\n",
    "    with strategy.scope():\n",
    "        model = build_model()\n",
    "\n",
    "    # Callbacks    \n",
    "    sv = ModelCheckpoint(\n",
    "        f'Model XLMRoberta.h5', monitor='val_accuracy', save_best_only=True,\n",
    "        save_weights_only=True, mode='auto', save_freq='epoch'\n",
    "    )\n",
    "    callbacks = [sv, ReduceLROnPlateau(monitor='val_loss', patience=1, cooldown=0),\n",
    "                EarlyStopping(monitor='val_loss', min_delta=1e-5, patience = 2)]\n",
    "\n",
    "    # Fitting Model    \n",
    "    train_history = model.fit(\n",
    "        {'input_ids': x_train[0], 'attention_mask': x_train[1], 'token_type_ids': x_train[2]}, y_train,\n",
    "        steps_per_epoch = len(train_ind)//32,\n",
    "        validation_data = ({'input_ids': x_valid[0], 'attention_mask': x_valid[1], 'token_type_ids': x_valid[2]}, \n",
    "                           y_val),\n",
    "        callbacks = callbacks,\n",
    "        batch_size = 32,\n",
    "        epochs = 10\n",
    "        )\n",
    "    \n",
    "    # Meload model terbaik dari epochnya \n",
    "    print('[INFO] Loading Model')\n",
    "    model.load_weights('Model XLMRoberta.h5')\n",
    "    \n",
    "    # Melihat Score dari Val_Accuracy \n",
    "    print('[INFO] Evaluating Model')\n",
    "    score = model.evaluate({'input_ids': x_valid[0], 'attention_mask': x_valid[1], 'token_type_ids': x_valid[2]}, \n",
    "                           y_val, verbose = 1)[1]\n",
    "    scores.append(score)\n",
    "    \n",
    "    # Membuat prediksi untuk test data lalu dijumlahkan pada array awal\n",
    "    print('[INFO] Making Prediction')\n",
    "    prediction = model.predict({'input_ids': x_test[0], 'attention_mask': x_test[1], 'token_type_ids': x_test[2]}, verbose = 1)\n",
    "    pred += prediction\n",
    "    \n",
    "    # Menghapus model yang disimpan perFoldnya untuk efesiensi memori session kaggle\n",
    "    print('[INFO] Removing Model')\n",
    "    !rm 'Model XLMRoberta.h5'\n",
    "    print()"
   ]
  },
  {
   "cell_type": "markdown",
   "metadata": {},
   "source": [
    "## 6. Memproses hasil prediksi"
   ]
  },
  {
   "cell_type": "code",
   "execution_count": 21,
   "metadata": {},
   "outputs": [
    {
     "name": "stdout",
     "output_type": "stream",
     "text": [
      "[INFO] Mean CV Accuracy 0.5080503622690836\n"
     ]
    }
   ],
   "source": [
    "# Rata-rata Val_Accuracy dari setiap foldnya\n",
    "print('[INFO] Mean CV Accuracy', sum(scores)/3)\n",
    "# Memilih kelas dengan prediksi peluang terbesar \n",
    "predict = [np.argmax(x) + 1 for x in pred]"
   ]
  },
  {
   "cell_type": "code",
   "execution_count": 22,
   "metadata": {},
   "outputs": [
    {
     "data": {
      "image/png": "[encoded data removed]",
      "text/plain": [
       "<Figure size 576x576 with 1 Axes>"
      ]
     },
     "metadata": {},
     "output_type": "display_data"
    }
   ],
   "source": [
    "# Check banyak prediksi prekelasinya\n",
    "plt.figure(figsize = (8, 8))\n",
    "sns.countplot(predict)\n",
    "plt.show()"
   ]
  },
  {
   "cell_type": "markdown",
   "metadata": {},
   "source": [
    "##  7. Membuat Submission"
   ]
  },
  {
   "cell_type": "code",
   "execution_count": 23,
   "metadata": {},
   "outputs": [
    {
     "data": {
      "text/html": [
       "<div>\n",
       "<style scoped>\n",
       "    .dataframe tbody tr th:only-of-type {\n",
       "        vertical-align: middle;\n",
       "    }\n",
       "\n",
       "    .dataframe tbody tr th {\n",
       "        vertical-align: top;\n",
       "    }\n",
       "\n",
       "    .dataframe thead th {\n",
       "        text-align: right;\n",
       "    }\n",
       "</style>\n",
       "<table border=\"1\" class=\"dataframe\">\n",
       "  <thead>\n",
       "    <tr style=\"text-align: right;\">\n",
       "      <th></th>\n",
       "      <th>review_id</th>\n",
       "      <th>rating</th>\n",
       "    </tr>\n",
       "  </thead>\n",
       "  <tbody>\n",
       "    <tr>\n",
       "      <th>0</th>\n",
       "      <td>1</td>\n",
       "      <td>3</td>\n",
       "    </tr>\n",
       "    <tr>\n",
       "      <th>1</th>\n",
       "      <td>2</td>\n",
       "      <td>2</td>\n",
       "    </tr>\n",
       "    <tr>\n",
       "      <th>2</th>\n",
       "      <td>3</td>\n",
       "      <td>5</td>\n",
       "    </tr>\n",
       "    <tr>\n",
       "      <th>3</th>\n",
       "      <td>4</td>\n",
       "      <td>5</td>\n",
       "    </tr>\n",
       "    <tr>\n",
       "      <th>4</th>\n",
       "      <td>5</td>\n",
       "      <td>5</td>\n",
       "    </tr>\n",
       "    <tr>\n",
       "      <th>...</th>\n",
       "      <td>...</td>\n",
       "      <td>...</td>\n",
       "    </tr>\n",
       "    <tr>\n",
       "      <th>60422</th>\n",
       "      <td>60423</td>\n",
       "      <td>4</td>\n",
       "    </tr>\n",
       "    <tr>\n",
       "      <th>60423</th>\n",
       "      <td>60424</td>\n",
       "      <td>3</td>\n",
       "    </tr>\n",
       "    <tr>\n",
       "      <th>60424</th>\n",
       "      <td>60425</td>\n",
       "      <td>4</td>\n",
       "    </tr>\n",
       "    <tr>\n",
       "      <th>60425</th>\n",
       "      <td>60426</td>\n",
       "      <td>5</td>\n",
       "    </tr>\n",
       "    <tr>\n",
       "      <th>60426</th>\n",
       "      <td>60427</td>\n",
       "      <td>4</td>\n",
       "    </tr>\n",
       "  </tbody>\n",
       "</table>\n",
       "<p>60427 rows × 2 columns</p>\n",
       "</div>"
      ],
      "text/plain": [
       "       review_id  rating\n",
       "0              1       3\n",
       "1              2       2\n",
       "2              3       5\n",
       "3              4       5\n",
       "4              5       5\n",
       "...          ...     ...\n",
       "60422      60423       4\n",
       "60423      60424       3\n",
       "60424      60425       4\n",
       "60425      60426       5\n",
       "60426      60427       4\n",
       "\n",
       "[60427 rows x 2 columns]"
      ]
     },
     "execution_count": 23,
     "metadata": {},
     "output_type": "execute_result"
    }
   ],
   "source": [
    "test['rating'] = predict\n",
    "sub = test[['review_id', 'rating']]\n",
    "sub"
   ]
  },
  {
   "cell_type": "code",
   "execution_count": 24,
   "metadata": {},
   "outputs": [],
   "source": [
    "sub.to_csv('Submission.csv', index = False)"
   ]
  },
  {
   "cell_type": "markdown",
   "metadata": {},
   "source": [
    "## Renference\n",
    "1. TensorFlow roBERTa - 0.705 <a href=\"https://www.kaggle.com/cdeotte/tensorflow-roberta-0-705\">link</a>\n",
    "2. XLM-RoBERTa <a href=\"https://huggingface.co/transformers/model_doc/xlmroberta.html\">link</a>"
   ]
  }
 ],
 "metadata": {
  "kernelspec": {
   "display_name": "Python 3",
   "language": "python",
   "name": "python3"
  },
  "language_info": {
   "codemirror_mode": {
    "name": "ipython",
    "version": 3
   },
   "file_extension": ".py",
   "mimetype": "text/x-python",
   "name": "python",
   "nbconvert_exporter": "python",
   "pygments_lexer": "ipython3",
   "version": "3.7.6"
  },
  "widgets": {
   "application/vnd.jupyter.widget-state+json": {
    "state": {
     "0b96bcd2b5614a4c9689bd887a329fc9": {
      "model_module": "@jupyter-widgets/base",
      "model_module_version": "1.2.0",
      "model_name": "LayoutModel",
      "state": {
       "_model_module": "@jupyter-widgets/base",
       "_model_module_version": "1.2.0",
       "_model_name": "LayoutModel",
       "_view_count": null,
       "_view_module": "@jupyter-widgets/base",
       "_view_module_version": "1.2.0",
       "_view_name": "LayoutView",
       "align_content": null,
       "align_items": null,
       "align_self": null,
       "border": null,
       "bottom": null,
       "display": null,
       "flex": null,
       "flex_flow": null,
       "grid_area": null,
       "grid_auto_columns": null,
       "grid_auto_flow": null,
       "grid_auto_rows": null,
       "grid_column": null,
       "grid_gap": null,
       "grid_row": null,
       "grid_template_areas": null,
       "grid_template_columns": null,
       "grid_template_rows": null,
       "height": null,
       "justify_content": null,
       "justify_items": null,
       "left": null,
       "margin": null,
       "max_height": null,
       "max_width": null,
       "min_height": null,
       "min_width": null,
       "object_fit": null,
       "object_position": null,
       "order": null,
       "overflow": null,
       "overflow_x": null,
       "overflow_y": null,
       "padding": null,
       "right": null,
       "top": null,
       "visibility": null,
       "width": null
      }
     },
     "1ea3f220a979463a8d3797510cceb625": {
      "model_module": "@jupyter-widgets/base",
      "model_module_version": "1.2.0",
      "model_name": "LayoutModel",
      "state": {
       "_model_module": "@jupyter-widgets/base",
       "_model_module_version": "1.2.0",
       "_model_name": "LayoutModel",
       "_view_count": null,
       "_view_module": "@jupyter-widgets/base",
       "_view_module_version": "1.2.0",
       "_view_name": "LayoutView",
       "align_content": null,
       "align_items": null,
       "align_self": null,
       "border": null,
       "bottom": null,
       "display": null,
       "flex": null,
       "flex_flow": null,
       "grid_area": null,
       "grid_auto_columns": null,
       "grid_auto_flow": null,
       "grid_auto_rows": null,
       "grid_column": null,
       "grid_gap": null,
       "grid_row": null,
       "grid_template_areas": null,
       "grid_template_columns": null,
       "grid_template_rows": null,
       "height": null,
       "justify_content": null,
       "justify_items": null,
       "left": null,
       "margin": null,
       "max_height": null,
       "max_width": null,
       "min_height": null,
       "min_width": null,
       "object_fit": null,
       "object_position": null,
       "order": null,
       "overflow": null,
       "overflow_x": null,
       "overflow_y": null,
       "padding": null,
       "right": null,
       "top": null,
       "visibility": null,
       "width": null
      }
     },
     "20e1147b1d5e400daf967b00f5a34ddb": {
      "model_module": "@jupyter-widgets/base",
      "model_module_version": "1.2.0",
      "model_name": "LayoutModel",
      "state": {
       "_model_module": "@jupyter-widgets/base",
       "_model_module_version": "1.2.0",
       "_model_name": "LayoutModel",
       "_view_count": null,
       "_view_module": "@jupyter-widgets/base",
       "_view_module_version": "1.2.0",
       "_view_name": "LayoutView",
       "align_content": null,
       "align_items": null,
       "align_self": null,
       "border": null,
       "bottom": null,
       "display": null,
       "flex": null,
       "flex_flow": null,
       "grid_area": null,
       "grid_auto_columns": null,
       "grid_auto_flow": null,
       "grid_auto_rows": null,
       "grid_column": null,
       "grid_gap": null,
       "grid_row": null,
       "grid_template_areas": null,
       "grid_template_columns": null,
       "grid_template_rows": null,
       "height": null,
       "justify_content": null,
       "justify_items": null,
       "left": null,
       "margin": null,
       "max_height": null,
       "max_width": null,
       "min_height": null,
       "min_width": null,
       "object_fit": null,
       "object_position": null,
       "order": null,
       "overflow": null,
       "overflow_x": null,
       "overflow_y": null,
       "padding": null,
       "right": null,
       "top": null,
       "visibility": null,
       "width": null
      }
     },
     "31df99a491f54fae83cba3b5ea4d4ff0": {
      "model_module": "@jupyter-widgets/controls",
      "model_module_version": "1.5.0",
      "model_name": "HTMLModel",
      "state": {
       "_dom_classes": [],
       "_model_module": "@jupyter-widgets/controls",
       "_model_module_version": "1.5.0",
       "_model_name": "HTMLModel",
       "_view_count": null,
       "_view_module": "@jupyter-widgets/controls",
       "_view_module_version": "1.5.0",
       "_view_name": "HTMLView",
       "description": "",
       "description_tooltip": null,
       "layout": "IPY_MODEL_1ea3f220a979463a8d3797510cceb625",
       "placeholder": "​",
       "style": "IPY_MODEL_a3ebd5a2c88844f6bc682a31aa8a2ef3",
       "value": " 1.89G/1.89G [01:02&lt;00:00, 30.4MB/s]"
      }
     },
     "324fcdaebfba47708d3c349df1e2a51a": {
      "model_module": "@jupyter-widgets/controls",
      "model_module_version": "1.5.0",
      "model_name": "ProgressStyleModel",
      "state": {
       "_model_module": "@jupyter-widgets/controls",
       "_model_module_version": "1.5.0",
       "_model_name": "ProgressStyleModel",
       "_view_count": null,
       "_view_module": "@jupyter-widgets/base",
       "_view_module_version": "1.2.0",
       "_view_name": "StyleView",
       "bar_color": null,
       "description_width": "initial"
      }
     },
     "344c0b96ee96494ab11e8628442fac55": {
      "model_module": "@jupyter-widgets/controls",
      "model_module_version": "1.5.0",
      "model_name": "HBoxModel",
      "state": {
       "_dom_classes": [],
       "_model_module": "@jupyter-widgets/controls",
       "_model_module_version": "1.5.0",
       "_model_name": "HBoxModel",
       "_view_count": null,
       "_view_module": "@jupyter-widgets/controls",
       "_view_module_version": "1.5.0",
       "_view_name": "HBoxView",
       "box_style": "",
       "children": [
        "IPY_MODEL_4ccf25a82eab4137a8492561ca946d4f",
        "IPY_MODEL_31df99a491f54fae83cba3b5ea4d4ff0"
       ],
       "layout": "IPY_MODEL_81eeecb0c53f4502b0a5fea8c5ea8dd4"
      }
     },
     "4504d919280b4d0589c6ad466e18d09a": {
      "model_module": "@jupyter-widgets/base",
      "model_module_version": "1.2.0",
      "model_name": "LayoutModel",
      "state": {
       "_model_module": "@jupyter-widgets/base",
       "_model_module_version": "1.2.0",
       "_model_name": "LayoutModel",
       "_view_count": null,
       "_view_module": "@jupyter-widgets/base",
       "_view_module_version": "1.2.0",
       "_view_name": "LayoutView",
       "align_content": null,
       "align_items": null,
       "align_self": null,
       "border": null,
       "bottom": null,
       "display": null,
       "flex": null,
       "flex_flow": null,
       "grid_area": null,
       "grid_auto_columns": null,
       "grid_auto_flow": null,
       "grid_auto_rows": null,
       "grid_column": null,
       "grid_gap": null,
       "grid_row": null,
       "grid_template_areas": null,
       "grid_template_columns": null,
       "grid_template_rows": null,
       "height": null,
       "justify_content": null,
       "justify_items": null,
       "left": null,
       "margin": null,
       "max_height": null,
       "max_width": null,
       "min_height": null,
       "min_width": null,
       "object_fit": null,
       "object_position": null,
       "order": null,
       "overflow": null,
       "overflow_x": null,
       "overflow_y": null,
       "padding": null,
       "right": null,
       "top": null,
       "visibility": null,
       "width": null
      }
     },
     "4ccf25a82eab4137a8492561ca946d4f": {
      "model_module": "@jupyter-widgets/controls",
      "model_module_version": "1.5.0",
      "model_name": "FloatProgressModel",
      "state": {
       "_dom_classes": [],
       "_model_module": "@jupyter-widgets/controls",
       "_model_module_version": "1.5.0",
       "_model_name": "FloatProgressModel",
       "_view_count": null,
       "_view_module": "@jupyter-widgets/controls",
       "_view_module_version": "1.5.0",
       "_view_name": "ProgressView",
       "bar_style": "success",
       "description": "Downloading: 100%",
       "description_tooltip": null,
       "layout": "IPY_MODEL_54d70501ac62480f97315240690e752d",
       "max": 1885418496,
       "min": 0,
       "orientation": "horizontal",
       "style": "IPY_MODEL_4d0b21983bb944f59750a6b0f994ffe8",
       "value": 1885418496
      }
     },
     "4d0b21983bb944f59750a6b0f994ffe8": {
      "model_module": "@jupyter-widgets/controls",
      "model_module_version": "1.5.0",
      "model_name": "ProgressStyleModel",
      "state": {
       "_model_module": "@jupyter-widgets/controls",
       "_model_module_version": "1.5.0",
       "_model_name": "ProgressStyleModel",
       "_view_count": null,
       "_view_module": "@jupyter-widgets/base",
       "_view_module_version": "1.2.0",
       "_view_name": "StyleView",
       "bar_color": null,
       "description_width": "initial"
      }
     },
     "4f80def3623840b8adb6960cdbfc5ac4": {
      "model_module": "@jupyter-widgets/controls",
      "model_module_version": "1.5.0",
      "model_name": "DescriptionStyleModel",
      "state": {
       "_model_module": "@jupyter-widgets/controls",
       "_model_module_version": "1.5.0",
       "_model_name": "DescriptionStyleModel",
       "_view_count": null,
       "_view_module": "@jupyter-widgets/base",
       "_view_module_version": "1.2.0",
       "_view_name": "StyleView",
       "description_width": ""
      }
     },
     "54d70501ac62480f97315240690e752d": {
      "model_module": "@jupyter-widgets/base",
      "model_module_version": "1.2.0",
      "model_name": "LayoutModel",
      "state": {
       "_model_module": "@jupyter-widgets/base",
       "_model_module_version": "1.2.0",
       "_model_name": "LayoutModel",
       "_view_count": null,
       "_view_module": "@jupyter-widgets/base",
       "_view_module_version": "1.2.0",
       "_view_name": "LayoutView",
       "align_content": null,
       "align_items": null,
       "align_self": null,
       "border": null,
       "bottom": null,
       "display": null,
       "flex": null,
       "flex_flow": null,
       "grid_area": null,
       "grid_auto_columns": null,
       "grid_auto_flow": null,
       "grid_auto_rows": null,
       "grid_column": null,
       "grid_gap": null,
       "grid_row": null,
       "grid_template_areas": null,
       "grid_template_columns": null,
       "grid_template_rows": null,
       "height": null,
       "justify_content": null,
       "justify_items": null,
       "left": null,
       "margin": null,
       "max_height": null,
       "max_width": null,
       "min_height": null,
       "min_width": null,
       "object_fit": null,
       "object_position": null,
       "order": null,
       "overflow": null,
       "overflow_x": null,
       "overflow_y": null,
       "padding": null,
       "right": null,
       "top": null,
       "visibility": null,
       "width": null
      }
     },
     "655a9c8258c748b3a9f3d31de2a8d835": {
      "model_module": "@jupyter-widgets/controls",
      "model_module_version": "1.5.0",
      "model_name": "DescriptionStyleModel",
      "state": {
       "_model_module": "@jupyter-widgets/controls",
       "_model_module_version": "1.5.0",
       "_model_name": "DescriptionStyleModel",
       "_view_count": null,
       "_view_module": "@jupyter-widgets/base",
       "_view_module_version": "1.2.0",
       "_view_name": "StyleView",
       "description_width": ""
      }
     },
     "81eeecb0c53f4502b0a5fea8c5ea8dd4": {
      "model_module": "@jupyter-widgets/base",
      "model_module_version": "1.2.0",
      "model_name": "LayoutModel",
      "state": {
       "_model_module": "@jupyter-widgets/base",
       "_model_module_version": "1.2.0",
       "_model_name": "LayoutModel",
       "_view_count": null,
       "_view_module": "@jupyter-widgets/base",
       "_view_module_version": "1.2.0",
       "_view_name": "LayoutView",
       "align_content": null,
       "align_items": null,
       "align_self": null,
       "border": null,
       "bottom": null,
       "display": null,
       "flex": null,
       "flex_flow": null,
       "grid_area": null,
       "grid_auto_columns": null,
       "grid_auto_flow": null,
       "grid_auto_rows": null,
       "grid_column": null,
       "grid_gap": null,
       "grid_row": null,
       "grid_template_areas": null,
       "grid_template_columns": null,
       "grid_template_rows": null,
       "height": null,
       "justify_content": null,
       "justify_items": null,
       "left": null,
       "margin": null,
       "max_height": null,
       "max_width": null,
       "min_height": null,
       "min_width": null,
       "object_fit": null,
       "object_position": null,
       "order": null,
       "overflow": null,
       "overflow_x": null,
       "overflow_y": null,
       "padding": null,
       "right": null,
       "top": null,
       "visibility": null,
       "width": null
      }
     },
     "8b12672356e549c6b77cdf767498babe": {
      "model_module": "@jupyter-widgets/controls",
      "model_module_version": "1.5.0",
      "model_name": "FloatProgressModel",
      "state": {
       "_dom_classes": [],
       "_model_module": "@jupyter-widgets/controls",
       "_model_module_version": "1.5.0",
       "_model_name": "FloatProgressModel",
       "_view_count": null,
       "_view_module": "@jupyter-widgets/controls",
       "_view_module_version": "1.5.0",
       "_view_name": "ProgressView",
       "bar_style": "success",
       "description": "Downloading: 100%",
       "description_tooltip": null,
       "layout": "IPY_MODEL_0b96bcd2b5614a4c9689bd887a329fc9",
       "max": 5069051,
       "min": 0,
       "orientation": "horizontal",
       "style": "IPY_MODEL_e0487cb7a5064f56811678b4b2dafb63",
       "value": 5069051
      }
     },
     "8d8d4a4efac540e88c41d12876a72f23": {
      "model_module": "@jupyter-widgets/base",
      "model_module_version": "1.2.0",
      "model_name": "LayoutModel",
      "state": {
       "_model_module": "@jupyter-widgets/base",
       "_model_module_version": "1.2.0",
       "_model_name": "LayoutModel",
       "_view_count": null,
       "_view_module": "@jupyter-widgets/base",
       "_view_module_version": "1.2.0",
       "_view_name": "LayoutView",
       "align_content": null,
       "align_items": null,
       "align_self": null,
       "border": null,
       "bottom": null,
       "display": null,
       "flex": null,
       "flex_flow": null,
       "grid_area": null,
       "grid_auto_columns": null,
       "grid_auto_flow": null,
       "grid_auto_rows": null,
       "grid_column": null,
       "grid_gap": null,
       "grid_row": null,
       "grid_template_areas": null,
       "grid_template_columns": null,
       "grid_template_rows": null,
       "height": null,
       "justify_content": null,
       "justify_items": null,
       "left": null,
       "margin": null,
       "max_height": null,
       "max_width": null,
       "min_height": null,
       "min_width": null,
       "object_fit": null,
       "object_position": null,
       "order": null,
       "overflow": null,
       "overflow_x": null,
       "overflow_y": null,
       "padding": null,
       "right": null,
       "top": null,
       "visibility": null,
       "width": null
      }
     },
     "9456343c3df04129ad057b7d317d0a43": {
      "model_module": "@jupyter-widgets/base",
      "model_module_version": "1.2.0",
      "model_name": "LayoutModel",
      "state": {
       "_model_module": "@jupyter-widgets/base",
       "_model_module_version": "1.2.0",
       "_model_name": "LayoutModel",
       "_view_count": null,
       "_view_module": "@jupyter-widgets/base",
       "_view_module_version": "1.2.0",
       "_view_name": "LayoutView",
       "align_content": null,
       "align_items": null,
       "align_self": null,
       "border": null,
       "bottom": null,
       "display": null,
       "flex": null,
       "flex_flow": null,
       "grid_area": null,
       "grid_auto_columns": null,
       "grid_auto_flow": null,
       "grid_auto_rows": null,
       "grid_column": null,
       "grid_gap": null,
       "grid_row": null,
       "grid_template_areas": null,
       "grid_template_columns": null,
       "grid_template_rows": null,
       "height": null,
       "justify_content": null,
       "justify_items": null,
       "left": null,
       "margin": null,
       "max_height": null,
       "max_width": null,
       "min_height": null,
       "min_width": null,
       "object_fit": null,
       "object_position": null,
       "order": null,
       "overflow": null,
       "overflow_x": null,
       "overflow_y": null,
       "padding": null,
       "right": null,
       "top": null,
       "visibility": null,
       "width": null
      }
     },
     "a3ebd5a2c88844f6bc682a31aa8a2ef3": {
      "model_module": "@jupyter-widgets/controls",
      "model_module_version": "1.5.0",
      "model_name": "DescriptionStyleModel",
      "state": {
       "_model_module": "@jupyter-widgets/controls",
       "_model_module_version": "1.5.0",
       "_model_name": "DescriptionStyleModel",
       "_view_count": null,
       "_view_module": "@jupyter-widgets/base",
       "_view_module_version": "1.2.0",
       "_view_name": "StyleView",
       "description_width": ""
      }
     },
     "bfcd120d833249ce81ec61f64fb8638f": {
      "model_module": "@jupyter-widgets/controls",
      "model_module_version": "1.5.0",
      "model_name": "HTMLModel",
      "state": {
       "_dom_classes": [],
       "_model_module": "@jupyter-widgets/controls",
       "_model_module_version": "1.5.0",
       "_model_name": "HTMLModel",
       "_view_count": null,
       "_view_module": "@jupyter-widgets/controls",
       "_view_module_version": "1.5.0",
       "_view_name": "HTMLView",
       "description": "",
       "description_tooltip": null,
       "layout": "IPY_MODEL_8d8d4a4efac540e88c41d12876a72f23",
       "placeholder": "​",
       "style": "IPY_MODEL_4f80def3623840b8adb6960cdbfc5ac4",
       "value": " 512/512 [00:00&lt;00:00, 14.2kB/s]"
      }
     },
     "d5c3d451f8ca4e4d9b7059d0ebe7d553": {
      "model_module": "@jupyter-widgets/controls",
      "model_module_version": "1.5.0",
      "model_name": "HTMLModel",
      "state": {
       "_dom_classes": [],
       "_model_module": "@jupyter-widgets/controls",
       "_model_module_version": "1.5.0",
       "_model_name": "HTMLModel",
       "_view_count": null,
       "_view_module": "@jupyter-widgets/controls",
       "_view_module_version": "1.5.0",
       "_view_name": "HTMLView",
       "description": "",
       "description_tooltip": null,
       "layout": "IPY_MODEL_9456343c3df04129ad057b7d317d0a43",
       "placeholder": "​",
       "style": "IPY_MODEL_655a9c8258c748b3a9f3d31de2a8d835",
       "value": " 5.07M/5.07M [00:37&lt;00:00, 135kB/s]"
      }
     },
     "d6e58084d74e4f9e8b209d8530f32815": {
      "model_module": "@jupyter-widgets/base",
      "model_module_version": "1.2.0",
      "model_name": "LayoutModel",
      "state": {
       "_model_module": "@jupyter-widgets/base",
       "_model_module_version": "1.2.0",
       "_model_name": "LayoutModel",
       "_view_count": null,
       "_view_module": "@jupyter-widgets/base",
       "_view_module_version": "1.2.0",
       "_view_name": "LayoutView",
       "align_content": null,
       "align_items": null,
       "align_self": null,
       "border": null,
       "bottom": null,
       "display": null,
       "flex": null,
       "flex_flow": null,
       "grid_area": null,
       "grid_auto_columns": null,
       "grid_auto_flow": null,
       "grid_auto_rows": null,
       "grid_column": null,
       "grid_gap": null,
       "grid_row": null,
       "grid_template_areas": null,
       "grid_template_columns": null,
       "grid_template_rows": null,
       "height": null,
       "justify_content": null,
       "justify_items": null,
       "left": null,
       "margin": null,
       "max_height": null,
       "max_width": null,
       "min_height": null,
       "min_width": null,
       "object_fit": null,
       "object_position": null,
       "order": null,
       "overflow": null,
       "overflow_x": null,
       "overflow_y": null,
       "padding": null,
       "right": null,
       "top": null,
       "visibility": null,
       "width": null
      }
     },
     "d9d19947b20b4065a08ca5797f70cfbe": {
      "model_module": "@jupyter-widgets/controls",
      "model_module_version": "1.5.0",
      "model_name": "FloatProgressModel",
      "state": {
       "_dom_classes": [],
       "_model_module": "@jupyter-widgets/controls",
       "_model_module_version": "1.5.0",
       "_model_name": "FloatProgressModel",
       "_view_count": null,
       "_view_module": "@jupyter-widgets/controls",
       "_view_module_version": "1.5.0",
       "_view_name": "ProgressView",
       "bar_style": "success",
       "description": "Downloading: 100%",
       "description_tooltip": null,
       "layout": "IPY_MODEL_4504d919280b4d0589c6ad466e18d09a",
       "max": 512,
       "min": 0,
       "orientation": "horizontal",
       "style": "IPY_MODEL_324fcdaebfba47708d3c349df1e2a51a",
       "value": 512
      }
     },
     "e0487cb7a5064f56811678b4b2dafb63": {
      "model_module": "@jupyter-widgets/controls",
      "model_module_version": "1.5.0",
      "model_name": "ProgressStyleModel",
      "state": {
       "_model_module": "@jupyter-widgets/controls",
       "_model_module_version": "1.5.0",
       "_model_name": "ProgressStyleModel",
       "_view_count": null,
       "_view_module": "@jupyter-widgets/base",
       "_view_module_version": "1.2.0",
       "_view_name": "StyleView",
       "bar_color": null,
       "description_width": "initial"
      }
     },
     "f00d1d3fd7aa41c28570b469de4de198": {
      "model_module": "@jupyter-widgets/controls",
      "model_module_version": "1.5.0",
      "model_name": "HBoxModel",
      "state": {
       "_dom_classes": [],
       "_model_module": "@jupyter-widgets/controls",
       "_model_module_version": "1.5.0",
       "_model_name": "HBoxModel",
       "_view_count": null,
       "_view_module": "@jupyter-widgets/controls",
       "_view_module_version": "1.5.0",
       "_view_name": "HBoxView",
       "box_style": "",
       "children": [
        "IPY_MODEL_8b12672356e549c6b77cdf767498babe",
        "IPY_MODEL_d5c3d451f8ca4e4d9b7059d0ebe7d553"
       ],
       "layout": "IPY_MODEL_20e1147b1d5e400daf967b00f5a34ddb"
      }
     },
     "fb34e5c9534648af8d22c52e93f2d326": {
      "model_module": "@jupyter-widgets/controls",
      "model_module_version": "1.5.0",
      "model_name": "HBoxModel",
      "state": {
       "_dom_classes": [],
       "_model_module": "@jupyter-widgets/controls",
       "_model_module_version": "1.5.0",
       "_model_name": "HBoxModel",
       "_view_count": null,
       "_view_module": "@jupyter-widgets/controls",
       "_view_module_version": "1.5.0",
       "_view_name": "HBoxView",
       "box_style": "",
       "children": [
        "IPY_MODEL_d9d19947b20b4065a08ca5797f70cfbe",
        "IPY_MODEL_bfcd120d833249ce81ec61f64fb8638f"
       ],
       "layout": "IPY_MODEL_d6e58084d74e4f9e8b209d8530f32815"
      }
     }
    },
    "version_major": 2,
    "version_minor": 0
   }
  }
 },
 "nbformat": 4,
 "nbformat_minor": 4
}