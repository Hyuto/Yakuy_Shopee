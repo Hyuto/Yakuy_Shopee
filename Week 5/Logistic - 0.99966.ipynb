{
 "cells": [
  {
   "cell_type": "markdown",
   "metadata": {},
   "source": [
    "# Logistic ~ Week 5\n",
    "<hr>\n",
    "\n",
    "## * Kelebihan:\n",
    " 1. Accuracy cukup besar 0.99966\n",
    " 2. Algoritma Mudah Dipahami\n",
    "## * Kekurangan:\n",
    " 1. Lemot ~ 1 jam 20 menit runtime.\n",
    "<p style=\"font-size : 10pt\">Note : Program yang lebih cepet & lebih akurat sama Dimas</p>"
   ]
  },
  {
   "cell_type": "markdown",
   "metadata": {},
   "source": [
    "## Import Libraries\n",
    "Import dulu gan ~"
   ]
  },
  {
   "cell_type": "code",
   "execution_count": 1,
   "metadata": {
    "_cell_guid": "b1076dfc-b9ad-4769-8c92-a6c4dae69d19",
    "_uuid": "8f2839f25d086af736a60e9eeb907d3b93b6e0e5"
   },
   "outputs": [],
   "source": [
    "import numpy as np\n",
    "import pandas as pd\n",
    "import matplotlib.pyplot as plt\n",
    "import seaborn as sns\n",
    "from datetime import datetime, timedelta\n",
    "import re\n",
    "from tqdm import tqdm"
   ]
  },
  {
   "cell_type": "markdown",
   "metadata": {},
   "source": [
    "## Loading Dataset\n",
    "Load datanya~"
   ]
  },
  {
   "cell_type": "code",
   "execution_count": 2,
   "metadata": {
    "_cell_guid": "79c7e3d0-c299-4dcb-8224-4455121ee9b0",
    "_uuid": "d629ff2d2480ee46fbb7e2d37f6b5fab8052498a"
   },
   "outputs": [],
   "source": [
    "data = pd.read_csv('../input/logistics-shopee-code-league/delivery_orders_march.csv')"
   ]
  },
  {
   "cell_type": "markdown",
   "metadata": {},
   "source": [
    "## Checking NAN Value\n",
    "Menghitung banyaknya NAN per kolom."
   ]
  },
  {
   "cell_type": "code",
   "execution_count": 3,
   "metadata": {},
   "outputs": [
    {
     "data": {
      "text/plain": [
       "orderid                      0\n",
       "pick                         0\n",
       "1st_deliver_attempt          0\n",
       "2nd_deliver_attempt    1819311\n",
       "buyeraddress                 0\n",
       "selleraddress                0\n",
       "dtype: int64"
      ]
     },
     "execution_count": 3,
     "metadata": {},
     "output_type": "execute_result"
    }
   ],
   "source": [
    "data.isna().sum()"
   ]
  },
  {
   "cell_type": "markdown",
   "metadata": {},
   "source": [
    "## Membuat Dataframe Expected Hari Pengiriman\n",
    "Membuat dataframe yang berisi kota asal, kota tujuan, dan ketentuan waktu pengiriman sesuai data yang di excel."
   ]
  },
  {
   "cell_type": "code",
   "execution_count": 4,
   "metadata": {},
   "outputs": [
    {
     "data": {
      "text/html": [
       "<div>\n",
       "<style scoped>\n",
       "    .dataframe tbody tr th:only-of-type {\n",
       "        vertical-align: middle;\n",
       "    }\n",
       "\n",
       "    .dataframe tbody tr th {\n",
       "        vertical-align: top;\n",
       "    }\n",
       "\n",
       "    .dataframe thead th {\n",
       "        text-align: right;\n",
       "    }\n",
       "</style>\n",
       "<table border=\"1\" class=\"dataframe\">\n",
       "  <thead>\n",
       "    <tr style=\"text-align: right;\">\n",
       "      <th></th>\n",
       "      <th>Awal</th>\n",
       "      <th>Tujuan</th>\n",
       "      <th>Target</th>\n",
       "    </tr>\n",
       "  </thead>\n",
       "  <tbody>\n",
       "    <tr>\n",
       "      <th>0</th>\n",
       "      <td>metro manila</td>\n",
       "      <td>metro manila</td>\n",
       "      <td>3</td>\n",
       "    </tr>\n",
       "    <tr>\n",
       "      <th>1</th>\n",
       "      <td>metro manila</td>\n",
       "      <td>luzon</td>\n",
       "      <td>5</td>\n",
       "    </tr>\n",
       "    <tr>\n",
       "      <th>2</th>\n",
       "      <td>metro manila</td>\n",
       "      <td>visayas</td>\n",
       "      <td>7</td>\n",
       "    </tr>\n",
       "    <tr>\n",
       "      <th>3</th>\n",
       "      <td>metro manila</td>\n",
       "      <td>mindanao</td>\n",
       "      <td>7</td>\n",
       "    </tr>\n",
       "    <tr>\n",
       "      <th>4</th>\n",
       "      <td>luzon</td>\n",
       "      <td>luzon</td>\n",
       "      <td>5</td>\n",
       "    </tr>\n",
       "    <tr>\n",
       "      <th>5</th>\n",
       "      <td>luzon</td>\n",
       "      <td>visayas</td>\n",
       "      <td>7</td>\n",
       "    </tr>\n",
       "    <tr>\n",
       "      <th>6</th>\n",
       "      <td>luzon</td>\n",
       "      <td>mindanao</td>\n",
       "      <td>7</td>\n",
       "    </tr>\n",
       "    <tr>\n",
       "      <th>7</th>\n",
       "      <td>visayas</td>\n",
       "      <td>visayas</td>\n",
       "      <td>7</td>\n",
       "    </tr>\n",
       "    <tr>\n",
       "      <th>8</th>\n",
       "      <td>visayas</td>\n",
       "      <td>mindanao</td>\n",
       "      <td>7</td>\n",
       "    </tr>\n",
       "    <tr>\n",
       "      <th>9</th>\n",
       "      <td>mindanao</td>\n",
       "      <td>mindanao</td>\n",
       "      <td>7</td>\n",
       "    </tr>\n",
       "  </tbody>\n",
       "</table>\n",
       "</div>"
      ],
      "text/plain": [
       "           Awal        Tujuan  Target\n",
       "0  metro manila  metro manila       3\n",
       "1  metro manila         luzon       5\n",
       "2  metro manila       visayas       7\n",
       "3  metro manila      mindanao       7\n",
       "4         luzon         luzon       5\n",
       "5         luzon       visayas       7\n",
       "6         luzon      mindanao       7\n",
       "7       visayas       visayas       7\n",
       "8       visayas      mindanao       7\n",
       "9      mindanao      mindanao       7"
      ]
     },
     "execution_count": 4,
     "metadata": {},
     "output_type": "execute_result"
    }
   ],
   "source": [
    "city = list(map(lambda x : x.lower(), ['Metro Manila', 'Luzon', 'Visayas', 'Mindanao'])) # List kota yang ada\n",
    "start, des = [], []\n",
    "for i in range(len(city)):\n",
    "    for j in range(i, len(city)):\n",
    "        start.append(city[i])\n",
    "        des.append(city[j])\n",
    "target  = [3, 5, 7, 7, 5, 7, 7, 7, 7, 7]\n",
    "kota = pd.DataFrame({'Awal' : start, 'Tujuan' : des, 'Target' : target})\n",
    "kota"
   ]
  },
  {
   "cell_type": "markdown",
   "metadata": {},
   "source": [
    "## Mengubah Format Timestamp Menjadi Datetime\n",
    "Mengubah format timestamp menjadi datetime sesuai dengan ketentuan (`Tahun-Bulan-Tanggal` GMT +8).\n",
    "\n",
    "```\n",
    "GMT +8 Datetime format = to_datetime(Timestamp + 8 * 3600)\n",
    "```"
   ]
  },
  {
   "cell_type": "code",
   "execution_count": 5,
   "metadata": {},
   "outputs": [
    {
     "data": {
      "text/html": [
       "<div>\n",
       "<style scoped>\n",
       "    .dataframe tbody tr th:only-of-type {\n",
       "        vertical-align: middle;\n",
       "    }\n",
       "\n",
       "    .dataframe tbody tr th {\n",
       "        vertical-align: top;\n",
       "    }\n",
       "\n",
       "    .dataframe thead th {\n",
       "        text-align: right;\n",
       "    }\n",
       "</style>\n",
       "<table border=\"1\" class=\"dataframe\">\n",
       "  <thead>\n",
       "    <tr style=\"text-align: right;\">\n",
       "      <th></th>\n",
       "      <th>orderid</th>\n",
       "      <th>pick</th>\n",
       "      <th>1st_deliver_attempt</th>\n",
       "      <th>2nd_deliver_attempt</th>\n",
       "      <th>buyeraddress</th>\n",
       "      <th>selleraddress</th>\n",
       "    </tr>\n",
       "  </thead>\n",
       "  <tbody>\n",
       "    <tr>\n",
       "      <th>0</th>\n",
       "      <td>2215676524</td>\n",
       "      <td>2020-03-02</td>\n",
       "      <td>2020-03-05</td>\n",
       "      <td>1970-01-01</td>\n",
       "      <td>Baging ldl BUENAVISTA,PATAG.CAGAYAN Buagsong,c...</td>\n",
       "      <td>Pantranco vill. 417 Warehouse# katipunan 532 (...</td>\n",
       "    </tr>\n",
       "    <tr>\n",
       "      <th>1</th>\n",
       "      <td>2219624609</td>\n",
       "      <td>2020-03-04</td>\n",
       "      <td>2020-03-06</td>\n",
       "      <td>2020-03-10</td>\n",
       "      <td>coloma's quzom CASANAS Site1 Masiyan 533A Stol...</td>\n",
       "      <td>BLDG 210A Moras C42B 2B16,168 church) Complex ...</td>\n",
       "    </tr>\n",
       "    <tr>\n",
       "      <th>2</th>\n",
       "      <td>2220979489</td>\n",
       "      <td>2020-03-04</td>\n",
       "      <td>2020-03-06</td>\n",
       "      <td>1970-01-01</td>\n",
       "      <td>21-O LumangDaan,Capitangan,Abucay,Bataan .Bign...</td>\n",
       "      <td>#66 150-C, DRIVE, Milagros Joe socorro Metro M...</td>\n",
       "    </tr>\n",
       "    <tr>\n",
       "      <th>3</th>\n",
       "      <td>2221066352</td>\n",
       "      <td>2020-03-05</td>\n",
       "      <td>2020-03-07</td>\n",
       "      <td>1970-01-01</td>\n",
       "      <td>616Espiritu MARTINVILLE,MANUYO #5paraiso kengi...</td>\n",
       "      <td>999maII 201,26 Villaruel Barretto gen.t number...</td>\n",
       "    </tr>\n",
       "    <tr>\n",
       "      <th>4</th>\n",
       "      <td>2222478803</td>\n",
       "      <td>2020-03-04</td>\n",
       "      <td>2020-03-06</td>\n",
       "      <td>1970-01-01</td>\n",
       "      <td>L042 Summerbreezee1 L2(Balanay analyn Lot760 C...</td>\n",
       "      <td>G66MANILA Hiyas Fitness MAYSILO magdiwang Lt.4...</td>\n",
       "    </tr>\n",
       "  </tbody>\n",
       "</table>\n",
       "</div>"
      ],
      "text/plain": [
       "      orderid       pick 1st_deliver_attempt 2nd_deliver_attempt  \\\n",
       "0  2215676524 2020-03-02          2020-03-05          1970-01-01   \n",
       "1  2219624609 2020-03-04          2020-03-06          2020-03-10   \n",
       "2  2220979489 2020-03-04          2020-03-06          1970-01-01   \n",
       "3  2221066352 2020-03-05          2020-03-07          1970-01-01   \n",
       "4  2222478803 2020-03-04          2020-03-06          1970-01-01   \n",
       "\n",
       "                                        buyeraddress  \\\n",
       "0  Baging ldl BUENAVISTA,PATAG.CAGAYAN Buagsong,c...   \n",
       "1  coloma's quzom CASANAS Site1 Masiyan 533A Stol...   \n",
       "2  21-O LumangDaan,Capitangan,Abucay,Bataan .Bign...   \n",
       "3  616Espiritu MARTINVILLE,MANUYO #5paraiso kengi...   \n",
       "4  L042 Summerbreezee1 L2(Balanay analyn Lot760 C...   \n",
       "\n",
       "                                       selleraddress  \n",
       "0  Pantranco vill. 417 Warehouse# katipunan 532 (...  \n",
       "1  BLDG 210A Moras C42B 2B16,168 church) Complex ...  \n",
       "2  #66 150-C, DRIVE, Milagros Joe socorro Metro M...  \n",
       "3  999maII 201,26 Villaruel Barretto gen.t number...  \n",
       "4  G66MANILA Hiyas Fitness MAYSILO magdiwang Lt.4...  "
      ]
     },
     "execution_count": 5,
     "metadata": {},
     "output_type": "execute_result"
    }
   ],
   "source": [
    "data['2nd_deliver_attempt'] = data['2nd_deliver_attempt'].fillna(0)   # Mengganti baris yang kosong pada kolom '2nd_deliver_attempt'2nd_deliver_attempt'\n",
    "data['pick'] = pd.to_datetime(data['pick'].apply(lambda x : datetime.fromtimestamp(x + 8 * 3600).strftime('%Y-%m-%d')))\n",
    "data['1st_deliver_attempt'] = pd.to_datetime(data['1st_deliver_attempt'].apply(lambda x : datetime.fromtimestamp(x + 8 * 3600).strftime('%Y-%m-%d')))\n",
    "data['2nd_deliver_attempt'] = pd.to_datetime(data['2nd_deliver_attempt'].apply(lambda x : datetime.fromtimestamp(x + 8 * 3600).strftime('%Y-%m-%d')))\n",
    "data.head()"
   ]
  },
  {
   "cell_type": "markdown",
   "metadata": {},
   "source": [
    "## Memprediksi Telat Tidaknya Pengiriman\n",
    "Main Idea:\n",
    "### 1. Menghitung Expected Day\n",
    "* Mencari Kota Asal dan Kota Tujuan pada setiap pengiriman.\n",
    "* Memeriksa waktu pengiriman berdasarkan table Expected yang sudah dibuat.\n",
    "\n",
    "### 2. Menghitung Banyak Hari Kerja\n",
    "* Menghitung banyak hari kerja pengiriman dengan mengabaikan hari libur menggunakan fungsi `busday_count` dari `numpy`.\n",
    "\n",
    "### 3. Membandingkan Waktu Pengiriman dengan Expected Day\n",
    "* Jika Expected > Waktu pengiriman maka tidak telat `0`.\n",
    "* Sebaliknya jika Expected < Waktu pengiriman maka telat `1`."
   ]
  },
  {
   "cell_type": "code",
   "execution_count": 6,
   "metadata": {},
   "outputs": [],
   "source": [
    "def Checker(start, end):\n",
    "    start, end = start.strftime('%Y-%m-%d'), end.strftime('%Y-%m-%d')\n",
    "    libur = ['2020-03-08', '2020-03-25', '2020-03-30', '2020-03-31']\n",
    "    count = np.busday_count(start, end, weekmask = [1,1,1,1,1,1,0], holidays = libur)\n",
    "    return count"
   ]
  },
  {
   "cell_type": "code",
   "execution_count": 7,
   "metadata": {},
   "outputs": [
    {
     "name": "stderr",
     "output_type": "stream",
     "text": [
      " 98%|█████████▊| 3122499/3176313 [58:55<00:59, 901.52it/s]"
     ]
    }
   ],
   "source": [
    "res = []                                                            # Menginilisialisasi List untuk Is_Late\n",
    "city_re = re.compile('|'.join(city))                                # Compiling RE untuk daftar kota\"\n",
    "for i in tqdm(range(len(data['buyeraddress']))):                    # Looping\n",
    "    tujuan = city_re.findall(data['buyeraddress'][i].lower())[0]    # Mencari Kota Tujuan\n",
    "    awal = city_re.findall(data['selleraddress'][i].lower())[0]     # Mencari Kota Akhir\n",
    "    try:                                                            # Melihat Expected dari kora awal dan tujuan# Melihat Expected dari kora awal dan tujuan\n",
    "        expected = kota['Target'][(kota['Awal'] == awal) & (kota['Tujuan'] == tujuan)].values[0]  \n",
    "    except:\n",
    "        expected = kota['Target'][(kota['Awal'] == tujuan) & (kota['Tujuan'] == awal)].values[0]\n",
    "    \n",
    "    # Menghitung banyak hari pengiriman pertama dan kedua# Menghitung banyak hari pengiriman pertama dan kedua\n",
    "    count, second = Checker(data['pick'][i], data['1st_deliver_attempt'][i]), False\n",
    "    if data['1st_deliver_attempt'][i] < data['2nd_deliver_attempt'][i]:\n",
    "        second = Checker(data['1st_deliver_attempt'][i], data['2nd_deliver_attempt'][i])\n",
    "\n",
    "    # Membandingkan Expected dengan banyak hari\n",
    "    if count <= expected:                                           \n",
    "        if second:\n",
    "            if second <= 3:\n",
    "                res.append(0)\n",
    "            else:\n",
    "                res.append(1)\n",
    "        else:\n",
    "            res.append(0)\n",
    "    else:\n",
    "        res.append(1)"
   ]
  },
  {
   "cell_type": "markdown",
   "metadata": {},
   "source": [
    "## Mebuat Dataframe Sesuai Ketentuan & Export ke CSV"
   ]
  },
  {
   "cell_type": "code",
   "execution_count": 8,
   "metadata": {},
   "outputs": [
    {
     "data": {
      "text/html": [
       "<div>\n",
       "<style scoped>\n",
       "    .dataframe tbody tr th:only-of-type {\n",
       "        vertical-align: middle;\n",
       "    }\n",
       "\n",
       "    .dataframe tbody tr th {\n",
       "        vertical-align: top;\n",
       "    }\n",
       "\n",
       "    .dataframe thead th {\n",
       "        text-align: right;\n",
       "    }\n",
       "</style>\n",
       "<table border=\"1\" class=\"dataframe\">\n",
       "  <thead>\n",
       "    <tr style=\"text-align: right;\">\n",
       "      <th></th>\n",
       "      <th>orderid</th>\n",
       "      <th>is_late</th>\n",
       "    </tr>\n",
       "  </thead>\n",
       "  <tbody>\n",
       "    <tr>\n",
       "      <th>0</th>\n",
       "      <td>2215676524</td>\n",
       "      <td>0</td>\n",
       "    </tr>\n",
       "    <tr>\n",
       "      <th>1</th>\n",
       "      <td>2219624609</td>\n",
       "      <td>0</td>\n",
       "    </tr>\n",
       "    <tr>\n",
       "      <th>2</th>\n",
       "      <td>2220979489</td>\n",
       "      <td>0</td>\n",
       "    </tr>\n",
       "    <tr>\n",
       "      <th>3</th>\n",
       "      <td>2221066352</td>\n",
       "      <td>0</td>\n",
       "    </tr>\n",
       "    <tr>\n",
       "      <th>4</th>\n",
       "      <td>2222478803</td>\n",
       "      <td>0</td>\n",
       "    </tr>\n",
       "    <tr>\n",
       "      <th>5</th>\n",
       "      <td>2222597288</td>\n",
       "      <td>0</td>\n",
       "    </tr>\n",
       "    <tr>\n",
       "      <th>6</th>\n",
       "      <td>2222738456</td>\n",
       "      <td>0</td>\n",
       "    </tr>\n",
       "    <tr>\n",
       "      <th>7</th>\n",
       "      <td>2224695304</td>\n",
       "      <td>1</td>\n",
       "    </tr>\n",
       "    <tr>\n",
       "      <th>8</th>\n",
       "      <td>2224704587</td>\n",
       "      <td>0</td>\n",
       "    </tr>\n",
       "    <tr>\n",
       "      <th>9</th>\n",
       "      <td>2225138267</td>\n",
       "      <td>0</td>\n",
       "    </tr>\n",
       "  </tbody>\n",
       "</table>\n",
       "</div>"
      ],
      "text/plain": [
       "      orderid  is_late\n",
       "0  2215676524        0\n",
       "1  2219624609        0\n",
       "2  2220979489        0\n",
       "3  2221066352        0\n",
       "4  2222478803        0\n",
       "5  2222597288        0\n",
       "6  2222738456        0\n",
       "7  2224695304        1\n",
       "8  2224704587        0\n",
       "9  2225138267        0"
      ]
     },
     "execution_count": 8,
     "metadata": {},
     "output_type": "execute_result"
    }
   ],
   "source": [
    "submission = pd.DataFrame({'orderid' : data['orderid'].tolist(), 'is_late' : res})\n",
    "submission.head(10)"
   ]
  },
  {
   "cell_type": "code",
   "execution_count": 9,
   "metadata": {},
   "outputs": [],
   "source": [
    "submission.to_csv('submission_1.csv', index = False)"
   ]
  }
 ],
 "metadata": {
  "kernelspec": {
   "display_name": "Python 3",
   "language": "python",
   "name": "python3"
  },
  "language_info": {
   "codemirror_mode": {
    "name": "ipython",
    "version": 3
   },
   "file_extension": ".py",
   "mimetype": "text/x-python",
   "name": "python",
   "nbconvert_exporter": "python",
   "pygments_lexer": "ipython3",
   "version": "3.7.6"
  }
 },
 "nbformat": 4,
 "nbformat_minor": 4
}