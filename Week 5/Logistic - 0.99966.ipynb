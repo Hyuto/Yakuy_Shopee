{
  "nbformat": 4,
  "nbformat_minor": 0,
  "metadata": {
    "kernelspec": {
      "display_name": "Python 3",
      "language": "python",
      "name": "python3"
    },
    "language_info": {
      "codemirror_mode": {
        "name": "ipython",
        "version": 3
      },
      "file_extension": ".py",
      "mimetype": "text/x-python",
      "name": "python",
      "nbconvert_exporter": "python",
      "pygments_lexer": "ipython3",
      "version": "3.7.6"
    },
    "colab": {
      "name": "Logistic - 0.99966.ipynb",
      "provenance": [],
      "collapsed_sections": []
    }
  },
  "cells": [
    {
      "cell_type": "markdown",
      "metadata": {
        "id": "9W_-hSzkMJG2",
        "colab_type": "text"
      },
      "source": [
        "# Logistic ~ Week 5\n",
        "<hr>\n",
        "\n",
        "## * Kelebihan:\n",
        " 1. Accuracy cukup besar 0.99966\n",
        " 2. Algoritma Mudah Dipahami\n",
        "## * Kekurangan:\n",
        " 1. Lemot ~ 15  - 20 menit runtime.\n",
        "<p style=\"font-size : 10pt\">Note : Program yang lebih cepet & lebih akurat sama Dimas</p>"
      ]
    },
    {
      "cell_type": "markdown",
      "metadata": {
        "id": "UOA4ROA3MJG3",
        "colab_type": "text"
      },
      "source": [
        "## Import Libraries\n",
        "Import dulu gan ~"
      ]
    },
    {
      "cell_type": "code",
      "metadata": {
        "_cell_guid": "b1076dfc-b9ad-4769-8c92-a6c4dae69d19",
        "_uuid": "8f2839f25d086af736a60e9eeb907d3b93b6e0e5",
        "id": "ZVXz8fzFMJG3",
        "colab_type": "code",
        "colab": {
          "base_uri": "https://localhost:8080/",
          "height": 70
        },
        "outputId": "7855b654-eff1-4949-afb4-9f9b314f57e6"
      },
      "source": [
        "import numpy as np\n",
        "import pandas as pd\n",
        "import matplotlib.pyplot as plt\n",
        "import seaborn as sns\n",
        "from datetime import datetime, timedelta\n",
        "import re\n",
        "from tqdm import tqdm"
      ],
      "execution_count": 1,
      "outputs": [
        {
          "output_type": "stream",
          "text": [
            "/usr/local/lib/python3.6/dist-packages/statsmodels/tools/_testing.py:19: FutureWarning: pandas.util.testing is deprecated. Use the functions in the public API at pandas.testing instead.\n",
            "  import pandas.util.testing as tm\n"
          ],
          "name": "stderr"
        }
      ]
    },
    {
      "cell_type": "markdown",
      "metadata": {
        "id": "pLJLFKSQMJG6",
        "colab_type": "text"
      },
      "source": [
        "## Loading Dataset\n",
        "Load datanya~"
      ]
    },
    {
      "cell_type": "code",
      "metadata": {
        "_cell_guid": "79c7e3d0-c299-4dcb-8224-4455121ee9b0",
        "_uuid": "d629ff2d2480ee46fbb7e2d37f6b5fab8052498a",
        "id": "2h1PriFyMJG7",
        "colab_type": "code",
        "colab": {}
      },
      "source": [
        "data = pd.read_csv('delivery_orders_march.csv')"
      ],
      "execution_count": 4,
      "outputs": []
    },
    {
      "cell_type": "markdown",
      "metadata": {
        "id": "5ITOByuaMJG9",
        "colab_type": "text"
      },
      "source": [
        "## Checking NAN Value\n",
        "Menghitung banyaknya NAN per kolom."
      ]
    },
    {
      "cell_type": "code",
      "metadata": {
        "id": "gtlt6Q7qMJG9",
        "colab_type": "code",
        "colab": {
          "base_uri": "https://localhost:8080/",
          "height": 134
        },
        "outputId": "913591a1-c421-4b98-8ccd-485e5efed5b8"
      },
      "source": [
        "data.isna().sum()"
      ],
      "execution_count": 5,
      "outputs": [
        {
          "output_type": "execute_result",
          "data": {
            "text/plain": [
              "orderid                      0\n",
              "pick                         0\n",
              "1st_deliver_attempt          0\n",
              "2nd_deliver_attempt    1819311\n",
              "buyeraddress                 0\n",
              "selleraddress                0\n",
              "dtype: int64"
            ]
          },
          "metadata": {
            "tags": []
          },
          "execution_count": 5
        }
      ]
    },
    {
      "cell_type": "markdown",
      "metadata": {
        "id": "8Ow7BpGWMJHC",
        "colab_type": "text"
      },
      "source": [
        "## Membuat Dictionary Expected Hari Pengiriman\n",
        "Membuat dictionary yang berisi kota asal, kota tujuan, dan ketentuan waktu pengiriman sesuai data yang di excel."
      ]
    },
    {
      "cell_type": "code",
      "metadata": {
        "id": "4aQ-vHzWMJHD",
        "colab_type": "code",
        "colab": {
          "base_uri": "https://localhost:8080/",
          "height": 54
        },
        "outputId": "57c91036-1cc0-4ea0-e49b-9d3af296fd6d"
      },
      "source": [
        "city = list(map(lambda x : x.lower(), ['Metro Manila', 'Luzon', 'Visayas', 'Mindanao'])) # List kota yang ada\n",
        "direc, k, target  = {}, 0, [3, 5, 7, 7, 5, 7, 7, 7, 7, 7]\n",
        "for i in range(len(city)):\n",
        "  direc[f'{city[i]}'] = {}\n",
        "  for j in range(i, len(city)):\n",
        "    direc[f'{city[i]}'][f'{city[j]}'] = target[k]\n",
        "    k += 1\n",
        "print(direc)"
      ],
      "execution_count": 16,
      "outputs": [
        {
          "output_type": "stream",
          "text": [
            "{'metro manila': {'metro manila': 3, 'luzon': 5, 'visayas': 7, 'mindanao': 7}, 'luzon': {'luzon': 5, 'visayas': 7, 'mindanao': 7}, 'visayas': {'visayas': 7, 'mindanao': 7}, 'mindanao': {'mindanao': 7}}\n"
          ],
          "name": "stdout"
        }
      ]
    },
    {
      "cell_type": "markdown",
      "metadata": {
        "id": "2aI-EGvfMJHG",
        "colab_type": "text"
      },
      "source": [
        "## Mengubah Format Timestamp Menjadi Datetime\n",
        "Mengubah format timestamp menjadi datetime sesuai dengan ketentuan (`Tahun-Bulan-Tanggal` GMT +8).\n",
        "\n",
        "```\n",
        "GMT +8 Datetime format = to_datetime(Timestamp + 8 * 3600)\n",
        "```"
      ]
    },
    {
      "cell_type": "code",
      "metadata": {
        "id": "BOHY7ySdMJHG",
        "colab_type": "code",
        "colab": {
          "base_uri": "https://localhost:8080/",
          "height": 195
        },
        "outputId": "52e8b7ff-442f-48db-a2a5-69c807a44822"
      },
      "source": [
        "data['2nd_deliver_attempt'] = data['2nd_deliver_attempt'].fillna(0)   # Mengganti baris yang kosong pada kolom '2nd_deliver_attempt'2nd_deliver_attempt'\n",
        "data['pick'] = pd.to_datetime(data['pick'].apply(lambda x : datetime.fromtimestamp(x + 8 * 3600).strftime('%Y-%m-%d')))\n",
        "data['1st_deliver_attempt'] = pd.to_datetime(data['1st_deliver_attempt'].apply(lambda x : datetime.fromtimestamp(x + 8 * 3600).strftime('%Y-%m-%d')))\n",
        "data['2nd_deliver_attempt'] = pd.to_datetime(data['2nd_deliver_attempt'].apply(lambda x : datetime.fromtimestamp(x + 8 * 3600).strftime('%Y-%m-%d')))\n",
        "data.head()"
      ],
      "execution_count": 7,
      "outputs": [
        {
          "output_type": "execute_result",
          "data": {
            "text/html": [
              "<div>\n",
              "<style scoped>\n",
              "    .dataframe tbody tr th:only-of-type {\n",
              "        vertical-align: middle;\n",
              "    }\n",
              "\n",
              "    .dataframe tbody tr th {\n",
              "        vertical-align: top;\n",
              "    }\n",
              "\n",
              "    .dataframe thead th {\n",
              "        text-align: right;\n",
              "    }\n",
              "</style>\n",
              "<table border=\"1\" class=\"dataframe\">\n",
              "  <thead>\n",
              "    <tr style=\"text-align: right;\">\n",
              "      <th></th>\n",
              "      <th>orderid</th>\n",
              "      <th>pick</th>\n",
              "      <th>1st_deliver_attempt</th>\n",
              "      <th>2nd_deliver_attempt</th>\n",
              "      <th>buyeraddress</th>\n",
              "      <th>selleraddress</th>\n",
              "    </tr>\n",
              "  </thead>\n",
              "  <tbody>\n",
              "    <tr>\n",
              "      <th>0</th>\n",
              "      <td>2215676524</td>\n",
              "      <td>2020-03-02</td>\n",
              "      <td>2020-03-05</td>\n",
              "      <td>1970-01-01</td>\n",
              "      <td>Baging ldl BUENAVISTA,PATAG.CAGAYAN Buagsong,c...</td>\n",
              "      <td>Pantranco vill. 417 Warehouse# katipunan 532 (...</td>\n",
              "    </tr>\n",
              "    <tr>\n",
              "      <th>1</th>\n",
              "      <td>2219624609</td>\n",
              "      <td>2020-03-04</td>\n",
              "      <td>2020-03-06</td>\n",
              "      <td>2020-03-10</td>\n",
              "      <td>coloma's quzom CASANAS Site1 Masiyan 533A Stol...</td>\n",
              "      <td>BLDG 210A Moras C42B 2B16,168 church) Complex ...</td>\n",
              "    </tr>\n",
              "    <tr>\n",
              "      <th>2</th>\n",
              "      <td>2220979489</td>\n",
              "      <td>2020-03-04</td>\n",
              "      <td>2020-03-06</td>\n",
              "      <td>1970-01-01</td>\n",
              "      <td>21-O LumangDaan,Capitangan,Abucay,Bataan .Bign...</td>\n",
              "      <td>#66 150-C, DRIVE, Milagros Joe socorro Metro M...</td>\n",
              "    </tr>\n",
              "    <tr>\n",
              "      <th>3</th>\n",
              "      <td>2221066352</td>\n",
              "      <td>2020-03-05</td>\n",
              "      <td>2020-03-07</td>\n",
              "      <td>1970-01-01</td>\n",
              "      <td>616Espiritu MARTINVILLE,MANUYO #5paraiso kengi...</td>\n",
              "      <td>999maII 201,26 Villaruel Barretto gen.t number...</td>\n",
              "    </tr>\n",
              "    <tr>\n",
              "      <th>4</th>\n",
              "      <td>2222478803</td>\n",
              "      <td>2020-03-04</td>\n",
              "      <td>2020-03-06</td>\n",
              "      <td>1970-01-01</td>\n",
              "      <td>L042 Summerbreezee1 L2(Balanay analyn Lot760 C...</td>\n",
              "      <td>G66MANILA Hiyas Fitness MAYSILO magdiwang Lt.4...</td>\n",
              "    </tr>\n",
              "  </tbody>\n",
              "</table>\n",
              "</div>"
            ],
            "text/plain": [
              "      orderid  ...                                      selleraddress\n",
              "0  2215676524  ...  Pantranco vill. 417 Warehouse# katipunan 532 (...\n",
              "1  2219624609  ...  BLDG 210A Moras C42B 2B16,168 church) Complex ...\n",
              "2  2220979489  ...  #66 150-C, DRIVE, Milagros Joe socorro Metro M...\n",
              "3  2221066352  ...  999maII 201,26 Villaruel Barretto gen.t number...\n",
              "4  2222478803  ...  G66MANILA Hiyas Fitness MAYSILO magdiwang Lt.4...\n",
              "\n",
              "[5 rows x 6 columns]"
            ]
          },
          "metadata": {
            "tags": []
          },
          "execution_count": 7
        }
      ]
    },
    {
      "cell_type": "markdown",
      "metadata": {
        "id": "gH5k3htqMJHJ",
        "colab_type": "text"
      },
      "source": [
        "## Memprediksi Telat Tidaknya Pengiriman\n",
        "Main Idea:\n",
        "### 1. Menghitung Expected Day\n",
        "* Mencari Kota Asal dan Kota Tujuan pada setiap pengiriman.\n",
        "* Memeriksa waktu pengiriman berdasarkan table Expected yang sudah dibuat.\n",
        "\n",
        "### 2. Menghitung Banyak Hari Kerja\n",
        "* Menghitung banyak hari kerja pengiriman dengan mengabaikan hari libur menggunakan fungsi `busday_count` dari `numpy`.\n",
        "\n",
        "### 3. Membandingkan Waktu Pengiriman dengan Expected Day\n",
        "* Jika Expected > Waktu pengiriman maka tidak telat `0`.\n",
        "* Sebaliknya jika Expected < Waktu pengiriman maka telat `1`."
      ]
    },
    {
      "cell_type": "code",
      "metadata": {
        "id": "g1ZHGX7uN_we",
        "colab_type": "code",
        "colab": {}
      },
      "source": [
        "def City(string):\n",
        "  \"\"\"\n",
        "  Fungsi untuk mencari nama kota pada alamat.\n",
        "  \"\"\"\n",
        "  city_re = re.compile('|'.join(city))\n",
        "  kota = city_re.findall(string.lower())[0]\n",
        "  return kota"
      ],
      "execution_count": 10,
      "outputs": []
    },
    {
      "cell_type": "code",
      "metadata": {
        "id": "SGaT8b4gOXMc",
        "colab_type": "code",
        "colab": {
          "base_uri": "https://localhost:8080/",
          "height": 279
        },
        "outputId": "54d3cf98-c3de-4cd1-e361-e6db445abc51"
      },
      "source": [
        "# Apply fungsi\n",
        "data['Tujuan'] = data['buyeraddress'].apply(lambda x : City(x))\n",
        "data['Awal'] = data['selleraddress'].apply(lambda x : City(x))\n",
        "data.tail()"
      ],
      "execution_count": 12,
      "outputs": [
        {
          "output_type": "execute_result",
          "data": {
            "text/html": [
              "<div>\n",
              "<style scoped>\n",
              "    .dataframe tbody tr th:only-of-type {\n",
              "        vertical-align: middle;\n",
              "    }\n",
              "\n",
              "    .dataframe tbody tr th {\n",
              "        vertical-align: top;\n",
              "    }\n",
              "\n",
              "    .dataframe thead th {\n",
              "        text-align: right;\n",
              "    }\n",
              "</style>\n",
              "<table border=\"1\" class=\"dataframe\">\n",
              "  <thead>\n",
              "    <tr style=\"text-align: right;\">\n",
              "      <th></th>\n",
              "      <th>orderid</th>\n",
              "      <th>pick</th>\n",
              "      <th>1st_deliver_attempt</th>\n",
              "      <th>2nd_deliver_attempt</th>\n",
              "      <th>buyeraddress</th>\n",
              "      <th>selleraddress</th>\n",
              "      <th>Tujuan</th>\n",
              "      <th>Awal</th>\n",
              "    </tr>\n",
              "  </thead>\n",
              "  <tbody>\n",
              "    <tr>\n",
              "      <th>3176308</th>\n",
              "      <td>31504087640510</td>\n",
              "      <td>2020-04-02</td>\n",
              "      <td>2020-04-04</td>\n",
              "      <td>1970-01-01</td>\n",
              "      <td>mayapis. edeliza JC274 5542 brgy.Dita, Metro M...</td>\n",
              "      <td>Intimate St) compound. Sekiat 2B8 98-B Mel far...</td>\n",
              "      <td>metro manila</td>\n",
              "      <td>metro manila</td>\n",
              "    </tr>\n",
              "    <tr>\n",
              "      <th>3176309</th>\n",
              "      <td>31504147352227</td>\n",
              "      <td>2020-04-03</td>\n",
              "      <td>2020-04-06</td>\n",
              "      <td>2020-04-07</td>\n",
              "      <td>Superdome PORKY K307 Libertad, PCGCC sub.bagui...</td>\n",
              "      <td>13th 3616 Pilipinas, :1v26 1f-5 (Village) bl10...</td>\n",
              "      <td>metro manila</td>\n",
              "      <td>metro manila</td>\n",
              "    </tr>\n",
              "    <tr>\n",
              "      <th>3176310</th>\n",
              "      <td>31504462290482</td>\n",
              "      <td>2020-04-02</td>\n",
              "      <td>2020-04-04</td>\n",
              "      <td>1970-01-01</td>\n",
              "      <td>Galay's 1republic 333-18 Diliman 74d Malbay fe...</td>\n",
              "      <td>Lane, 379B 1739A Ivc AFPFC Cainta, Waterpark, ...</td>\n",
              "      <td>metro manila</td>\n",
              "      <td>metro manila</td>\n",
              "    </tr>\n",
              "    <tr>\n",
              "      <th>3176311</th>\n",
              "      <td>31504851495943</td>\n",
              "      <td>2020-04-03</td>\n",
              "      <td>2020-04-07</td>\n",
              "      <td>1970-01-01</td>\n",
              "      <td>#4560, 80south biloca vi!!age KM21, MANRESA, ,...</td>\n",
              "      <td>lrt-2 Consolacion 224-A Paradise 6D 36st champ...</td>\n",
              "      <td>luzon</td>\n",
              "      <td>metro manila</td>\n",
              "    </tr>\n",
              "    <tr>\n",
              "      <th>3176312</th>\n",
              "      <td>31505199116340</td>\n",
              "      <td>2020-04-02</td>\n",
              "      <td>2020-04-06</td>\n",
              "      <td>2020-04-07</td>\n",
              "      <td>b4l13 TOLDA 792-A-5-A east...near CARRASCO Ang...</td>\n",
              "      <td>(Jeepney Kaligayan VANVAN Salud ASA Lauan A-55...</td>\n",
              "      <td>luzon</td>\n",
              "      <td>metro manila</td>\n",
              "    </tr>\n",
              "  </tbody>\n",
              "</table>\n",
              "</div>"
            ],
            "text/plain": [
              "                orderid       pick  ...        Tujuan          Awal\n",
              "3176308  31504087640510 2020-04-02  ...  metro manila  metro manila\n",
              "3176309  31504147352227 2020-04-03  ...  metro manila  metro manila\n",
              "3176310  31504462290482 2020-04-02  ...  metro manila  metro manila\n",
              "3176311  31504851495943 2020-04-03  ...         luzon  metro manila\n",
              "3176312  31505199116340 2020-04-02  ...         luzon  metro manila\n",
              "\n",
              "[5 rows x 8 columns]"
            ]
          },
          "metadata": {
            "tags": []
          },
          "execution_count": 12
        }
      ]
    },
    {
      "cell_type": "code",
      "metadata": {
        "id": "bavRQGMMJjsS",
        "colab_type": "code",
        "colab": {}
      },
      "source": [
        "def Expected(awal, tujuan):\n",
        "  \"\"\"\n",
        "  Fungsi untuk menentukan expektasi hari pengiriman diantara 2 kota \n",
        "  barang berdasarkan perjanjian dengan pihak kurir.\n",
        "  \"\"\"\n",
        "  try:\n",
        "    return direc[awal][tujuan]  \n",
        "  except:\n",
        "    return direc[tujuan][awal]"
      ],
      "execution_count": 17,
      "outputs": []
    },
    {
      "cell_type": "code",
      "metadata": {
        "id": "spNXyw9YKBhK",
        "colab_type": "code",
        "colab": {
          "base_uri": "https://localhost:8080/",
          "height": 195
        },
        "outputId": "abd0f88a-625b-45aa-a01b-f789cc0e1559"
      },
      "source": [
        "# Apply fungsi\n",
        "data['Expected'] = data[['Awal', 'Tujuan']].apply(lambda x : Expected(x['Awal'], x['Tujuan']), axis = 1)\n",
        "data[['Awal', 'Tujuan', 'Expected']].head()"
      ],
      "execution_count": 25,
      "outputs": [
        {
          "output_type": "execute_result",
          "data": {
            "text/html": [
              "<div>\n",
              "<style scoped>\n",
              "    .dataframe tbody tr th:only-of-type {\n",
              "        vertical-align: middle;\n",
              "    }\n",
              "\n",
              "    .dataframe tbody tr th {\n",
              "        vertical-align: top;\n",
              "    }\n",
              "\n",
              "    .dataframe thead th {\n",
              "        text-align: right;\n",
              "    }\n",
              "</style>\n",
              "<table border=\"1\" class=\"dataframe\">\n",
              "  <thead>\n",
              "    <tr style=\"text-align: right;\">\n",
              "      <th></th>\n",
              "      <th>Awal</th>\n",
              "      <th>Tujuan</th>\n",
              "      <th>Expected</th>\n",
              "    </tr>\n",
              "  </thead>\n",
              "  <tbody>\n",
              "    <tr>\n",
              "      <th>0</th>\n",
              "      <td>metro manila</td>\n",
              "      <td>metro manila</td>\n",
              "      <td>3</td>\n",
              "    </tr>\n",
              "    <tr>\n",
              "      <th>1</th>\n",
              "      <td>metro manila</td>\n",
              "      <td>metro manila</td>\n",
              "      <td>3</td>\n",
              "    </tr>\n",
              "    <tr>\n",
              "      <th>2</th>\n",
              "      <td>metro manila</td>\n",
              "      <td>metro manila</td>\n",
              "      <td>3</td>\n",
              "    </tr>\n",
              "    <tr>\n",
              "      <th>3</th>\n",
              "      <td>metro manila</td>\n",
              "      <td>metro manila</td>\n",
              "      <td>3</td>\n",
              "    </tr>\n",
              "    <tr>\n",
              "      <th>4</th>\n",
              "      <td>metro manila</td>\n",
              "      <td>luzon</td>\n",
              "      <td>5</td>\n",
              "    </tr>\n",
              "  </tbody>\n",
              "</table>\n",
              "</div>"
            ],
            "text/plain": [
              "           Awal        Tujuan  Expected\n",
              "0  metro manila  metro manila         3\n",
              "1  metro manila  metro manila         3\n",
              "2  metro manila  metro manila         3\n",
              "3  metro manila  metro manila         3\n",
              "4  metro manila         luzon         5"
            ]
          },
          "metadata": {
            "tags": []
          },
          "execution_count": 25
        }
      ]
    },
    {
      "cell_type": "code",
      "metadata": {
        "id": "ALY59FiNMJHJ",
        "colab_type": "code",
        "colab": {}
      },
      "source": [
        "def Checker(start, end):\n",
        "  \"\"\"\n",
        "  Fungsi Menghitung banyaknya hari kerja pada selang 2 tanggal\n",
        "  dengan mengabaikan beberapa hari libur.\n",
        "  \"\"\"\n",
        "  start, end = start.strftime('%Y-%m-%d'), end.strftime('%Y-%m-%d')\n",
        "  libur = ['2020-03-08', '2020-03-25', '2020-03-30', '2020-03-31']\n",
        "  count = np.busday_count(start, end, weekmask = [1,1,1,1,1,1,0], holidays = libur)\n",
        "  return count"
      ],
      "execution_count": 20,
      "outputs": []
    },
    {
      "cell_type": "code",
      "metadata": {
        "id": "pxjaqIWIMJHM",
        "colab_type": "code",
        "colab": {
          "base_uri": "https://localhost:8080/",
          "height": 34
        },
        "outputId": "6cd55276-4759-417c-aa5c-1d38bb89f38c"
      },
      "source": [
        "# Meenginisialisasi List untuk variable Is_Late\n",
        "res = []\n",
        "\n",
        "# Looping through\n",
        "for i in tqdm(range(len(data['buyeraddress']))):\n",
        "  # Menghitung banyak hari pengiriman pertama dan kedua\n",
        "  count, second = Checker(data['pick'][i], data['1st_deliver_attempt'][i]), False\n",
        "  if data['1st_deliver_attempt'][i] < data['2nd_deliver_attempt'][i]:\n",
        "      second = Checker(data['1st_deliver_attempt'][i], data['2nd_deliver_attempt'][i])\n",
        "\n",
        "  # Membandingkan Expected dengan banyak hari\n",
        "  if count <= data['Expected'][i]:                                           \n",
        "      if second:\n",
        "          if second <= 3:\n",
        "              res.append(0)\n",
        "          else:\n",
        "              res.append(1)\n",
        "      else:\n",
        "          res.append(0)\n",
        "  else:\n",
        "      res.append(1)"
      ],
      "execution_count": 21,
      "outputs": [
        {
          "output_type": "stream",
          "text": [
            "100%|██████████| 3176313/3176313 [07:10<00:00, 7378.18it/s]\n"
          ],
          "name": "stderr"
        }
      ]
    },
    {
      "cell_type": "markdown",
      "metadata": {
        "id": "1BbkgxT2MJHO",
        "colab_type": "text"
      },
      "source": [
        "## Mebuat Dataframe Sesuai Ketentuan & Export ke CSV"
      ]
    },
    {
      "cell_type": "code",
      "metadata": {
        "id": "4kTOC5RiMJHO",
        "colab_type": "code",
        "colab": {
          "base_uri": "https://localhost:8080/",
          "height": 343
        },
        "outputId": "6e26eb1c-aa57-4c4a-ab18-96052dba26ed"
      },
      "source": [
        "# Membuat Dataframe\n",
        "submission = pd.DataFrame({'orderid' : data['orderid'].tolist(), 'is_late' : res})\n",
        "submission.head(10)"
      ],
      "execution_count": 22,
      "outputs": [
        {
          "output_type": "execute_result",
          "data": {
            "text/html": [
              "<div>\n",
              "<style scoped>\n",
              "    .dataframe tbody tr th:only-of-type {\n",
              "        vertical-align: middle;\n",
              "    }\n",
              "\n",
              "    .dataframe tbody tr th {\n",
              "        vertical-align: top;\n",
              "    }\n",
              "\n",
              "    .dataframe thead th {\n",
              "        text-align: right;\n",
              "    }\n",
              "</style>\n",
              "<table border=\"1\" class=\"dataframe\">\n",
              "  <thead>\n",
              "    <tr style=\"text-align: right;\">\n",
              "      <th></th>\n",
              "      <th>orderid</th>\n",
              "      <th>is_late</th>\n",
              "    </tr>\n",
              "  </thead>\n",
              "  <tbody>\n",
              "    <tr>\n",
              "      <th>0</th>\n",
              "      <td>2215676524</td>\n",
              "      <td>0</td>\n",
              "    </tr>\n",
              "    <tr>\n",
              "      <th>1</th>\n",
              "      <td>2219624609</td>\n",
              "      <td>0</td>\n",
              "    </tr>\n",
              "    <tr>\n",
              "      <th>2</th>\n",
              "      <td>2220979489</td>\n",
              "      <td>0</td>\n",
              "    </tr>\n",
              "    <tr>\n",
              "      <th>3</th>\n",
              "      <td>2221066352</td>\n",
              "      <td>0</td>\n",
              "    </tr>\n",
              "    <tr>\n",
              "      <th>4</th>\n",
              "      <td>2222478803</td>\n",
              "      <td>0</td>\n",
              "    </tr>\n",
              "    <tr>\n",
              "      <th>5</th>\n",
              "      <td>2222597288</td>\n",
              "      <td>0</td>\n",
              "    </tr>\n",
              "    <tr>\n",
              "      <th>6</th>\n",
              "      <td>2222738456</td>\n",
              "      <td>0</td>\n",
              "    </tr>\n",
              "    <tr>\n",
              "      <th>7</th>\n",
              "      <td>2224695304</td>\n",
              "      <td>1</td>\n",
              "    </tr>\n",
              "    <tr>\n",
              "      <th>8</th>\n",
              "      <td>2224704587</td>\n",
              "      <td>0</td>\n",
              "    </tr>\n",
              "    <tr>\n",
              "      <th>9</th>\n",
              "      <td>2225138267</td>\n",
              "      <td>0</td>\n",
              "    </tr>\n",
              "  </tbody>\n",
              "</table>\n",
              "</div>"
            ],
            "text/plain": [
              "      orderid  is_late\n",
              "0  2215676524        0\n",
              "1  2219624609        0\n",
              "2  2220979489        0\n",
              "3  2221066352        0\n",
              "4  2222478803        0\n",
              "5  2222597288        0\n",
              "6  2222738456        0\n",
              "7  2224695304        1\n",
              "8  2224704587        0\n",
              "9  2225138267        0"
            ]
          },
          "metadata": {
            "tags": []
          },
          "execution_count": 22
        }
      ]
    },
    {
      "cell_type": "code",
      "metadata": {
        "id": "sWTCAQvEMJHR",
        "colab_type": "code",
        "colab": {}
      },
      "source": [
        "# Export\n",
        "submission.to_csv('submission_1.csv', index = False)"
      ],
      "execution_count": 23,
      "outputs": []
    }
  ]
}